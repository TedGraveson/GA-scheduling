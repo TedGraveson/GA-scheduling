{
 "cells": [
  {
   "cell_type": "markdown",
   "id": "49198f76",
   "metadata": {},
   "source": [
    "# Flow-Shop Scheduling"
   ]
  },
  {
   "cell_type": "code",
   "execution_count": 624,
   "id": "889186bf",
   "metadata": {},
   "outputs": [],
   "source": [
    "import pandas as pd\n",
    "import plotly.express as px\n",
    "import pandas as pd\n",
    "import matplotlib.pyplot as plt\n",
    "import numpy as np\n",
    "from matplotlib.patches import Patch\n",
    "import copy\n",
    "from random import random, shuffle, randrange, getrandbits\n",
    "import itertools"
   ]
  },
  {
   "cell_type": "code",
   "execution_count": 638,
   "id": "16661cdb",
   "metadata": {},
   "outputs": [],
   "source": [
    "def get_problem(filepath):\n",
    "    with open(filepath) as f:\n",
    "        firstline = f.readline().rstrip()\n",
    "        nums = firstline.split(\" \")     \n",
    "    data = pd.read_csv(filepath, sep= \" \", header=None, skiprows=1)\n",
    "    return data, nums\n",
    "\n",
    "def df_to_schedule(data, nums, solution = None):\n",
    "    data = data.to_numpy()\n",
    "    jobs = []\n",
    "    for i,row in enumerate(data):\n",
    "        jobs.append(Job(row, i+1))\n",
    "        \n",
    "    # Reorder jobs in certain order\n",
    "    # Can be used for checking solutions\n",
    "    if solution:\n",
    "        temp = [0] * len(solution)\n",
    "        for i, job_num in enumerate(solution):\n",
    "            temp[i] = jobs[job_num-1]\n",
    "        jobs = temp\n",
    "        \n",
    "    schedule = Schedule(jobs, int(nums[1]))\n",
    "    return schedule\n",
    "    "
   ]
  },
  {
   "cell_type": "code",
   "execution_count": 639,
   "id": "bd291a7e",
   "metadata": {},
   "outputs": [
    {
     "data": {
      "text/plain": [
       "2237"
      ]
     },
     "execution_count": 639,
     "metadata": {},
     "output_type": "execute_result"
    }
   ],
   "source": [
    "df, nums = get_problem(\"dataset/ta029.txt\")\n",
    "s = df_to_schedule(df, nums, [1,8,14,6,2,13,7,18,17,4,3,11,15,20,9,10,12,16,19,5,])\n",
    "s.makespan()"
   ]
  },
  {
   "cell_type": "code",
   "execution_count": 22,
   "id": "52cad962",
   "metadata": {},
   "outputs": [
    {
     "ename": "AttributeError",
     "evalue": "'Schedule' object has no attribute 'randomPermutation'",
     "output_type": "error",
     "traceback": [
      "\u001b[1;31m---------------------------------------------------------------------------\u001b[0m",
      "\u001b[1;31mAttributeError\u001b[0m                            Traceback (most recent call last)",
      "Input \u001b[1;32mIn [22]\u001b[0m, in \u001b[0;36m<cell line: 5>\u001b[1;34m()\u001b[0m\n\u001b[0;32m      5\u001b[0m \u001b[38;5;28;01mfor\u001b[39;00m i \u001b[38;5;129;01min\u001b[39;00m \u001b[38;5;28mrange\u001b[39m(\u001b[38;5;241m500\u001b[39m):\n\u001b[0;32m      6\u001b[0m     s \u001b[38;5;241m=\u001b[39m df_to_schedule(df, nums)\n\u001b[1;32m----> 7\u001b[0m     \u001b[43ms\u001b[49m\u001b[38;5;241;43m.\u001b[39;49m\u001b[43mrandomPermutation\u001b[49m()\n\u001b[0;32m      8\u001b[0m     s\u001b[38;5;241m.\u001b[39mupdate_times()\n\u001b[0;32m      9\u001b[0m     makespan_list\u001b[38;5;241m.\u001b[39mappend(s\u001b[38;5;241m.\u001b[39mmakespan())\n",
      "\u001b[1;31mAttributeError\u001b[0m: 'Schedule' object has no attribute 'randomPermutation'"
     ]
    }
   ],
   "source": [
    "df, nums = get_problem(\"dataset/ta030.txt\")\n",
    "makespan_list = []\n",
    "best = None\n",
    "best_t = 10000000\n",
    "for i in range(500):\n",
    "    s = df_to_schedule(df, nums)\n",
    "    s.randomPermutation()\n",
    "    s.update_times()\n",
    "    makespan_list.append(s.makespan())\n",
    "    if (s.makespan() < best_t):\n",
    "        print(s.makespan())\n",
    "        best_t = s.makespan()\n",
    "        best = s\n",
    "\n",
    "        \n",
    "\n",
    "gantt_chart(best)\n",
    "makespan_hist(makespan_list)"
   ]
  },
  {
   "cell_type": "code",
   "execution_count": 6,
   "id": "5c01cdb7",
   "metadata": {},
   "outputs": [],
   "source": [
    "def gantt_chart(schedule):\n",
    "#     c_dict = {1:'red', 2:'blue', 3: 'yellow', 4:'green', 5: \"orange\", 6: \"black\", 7:\"purple\", 8: \"grey\"}\n",
    "#     def color(row):\n",
    "#         return c_dict[row['job']]\n",
    "    df = schedule.get_df()\n",
    "#     df['color'] = df.apply(color, axis=1)\n",
    "#     legend_elements = [Patch(facecolor=c_dict[i], label=i)  for i in c_dict]\n",
    "    df['width'] = (df.end-df.start)\n",
    "    fig, ax = plt.subplots(1, figsize=(16,6))\n",
    "    ax.barh(df.machine, df.width, left=df.start, edgecolor='white')\n",
    "#     plt.legend(handles=legend_elements)\n",
    "    plt.show()\n",
    "    print(schedule.makespan())"
   ]
  },
  {
   "cell_type": "code",
   "execution_count": 7,
   "id": "c12b48d6",
   "metadata": {},
   "outputs": [],
   "source": [
    "def iteration_vs_makespan(makespan_list):\n",
    "    x = [x for x in range(1, len(makespan_list) +1)]\n",
    "    plt.scatter(x, makespan_list)"
   ]
  },
  {
   "cell_type": "code",
   "execution_count": 417,
   "id": "531c9e4c",
   "metadata": {},
   "outputs": [],
   "source": [
    "def makespan_hist(makespan_list):\n",
    "    binwidth = 4\n",
    "    plt.hist(makespan_list, linewidth=2,\n",
    "             edgecolor='white')\n",
    "    plt.show()"
   ]
  },
  {
   "cell_type": "code",
   "execution_count": 200,
   "id": "304a16e6",
   "metadata": {
    "scrolled": true
   },
   "outputs": [
    {
     "name": "stdout",
     "output_type": "stream",
     "text": [
      "[1, 2, 3, 4, 5, 6, 7, 8, 9, 10, 11, 12, 13, 14, 15, 16, 17, 18, 19, 20, 21, 22, 23, 24, 25, 26, 27, 28, 29, 30, 31, 32, 33, 34, 35, 36, 37, 38, 39, 40, 41, 42, 43, 44, 45, 46, 47, 48, 49, 50]\n",
      "[15, 35, 38, 31, 16, 5, 17, 36, 28, 12, 44, 26, 8, 6, 22, 42, 9, 46, 43, 23, 39, 49, 14, 21, 1, 33, 24, 48, 27, 19, 30, 10, 2, 41, 20, 47, 13, 50, 11, 45, 18, 7, 34, 40, 29, 32, 3, 25, 4, 37]\n",
      "[0, 0, 3, 4, 5, 6, 7, 8, 9, 10, 11, 12, 13, 14, 15, 16, 17, 18, 19, 20, 21, 22, 23, 24, 25, 26, 27, 28, 29, 30, 31, 32, 33, 34, 35, 36, 37, 38, 39, 40, 41, 42, 43, 0, 0, 0, 0, 0, 0, 0]\n"
     ]
    },
    {
     "data": {
      "image/png": "[encoded data removed]",
      "text/plain": [
       "<Figure size 1152x432 with 1 Axes>"
      ]
     },
     "metadata": {
      "needs_background": "light"
     },
     "output_type": "display_data"
    },
    {
     "name": "stdout",
     "output_type": "stream",
     "text": [
      "3845\n"
     ]
    },
    {
     "data": {
      "image/png": "[encoded data removed]",
      "text/plain": [
       "<Figure size 1152x432 with 1 Axes>"
      ]
     },
     "metadata": {
      "needs_background": "light"
     },
     "output_type": "display_data"
    },
    {
     "name": "stdout",
     "output_type": "stream",
     "text": [
      "3965\n"
     ]
    },
    {
     "data": {
      "image/png": "[encoded data removed]",
      "text/plain": [
       "<Figure size 1152x432 with 1 Axes>"
      ]
     },
     "metadata": {
      "needs_background": "light"
     },
     "output_type": "display_data"
    },
    {
     "name": "stdout",
     "output_type": "stream",
     "text": [
      "3816\n"
     ]
    }
   ],
   "source": [
    "df, nums = get_problem(\"dataset/ta050.txt\")\n",
    "s1 = df_to_schedule(df, nums)\n",
    "s1.set_permutation()\n",
    "print(s1.jobs)\n",
    "s2 = df_to_schedule(df, nums)\n",
    "s2.randomize()\n",
    "print(s2.jobs)\n",
    "\n",
    "child = GA.tp_cross(s1, s2)\n",
    "gantt_chart(s1)\n",
    "gantt_chart(s2)\n",
    "gantt_chart(child)"
   ]
  },
  {
   "cell_type": "code",
   "execution_count": null,
   "id": "407f3a1e",
   "metadata": {},
   "outputs": [],
   "source": [
    "brute_force(\"dataset/ta050.txt\", 1000)"
   ]
  },
  {
   "cell_type": "code",
   "execution_count": 644,
   "id": "792b3cc4",
   "metadata": {},
   "outputs": [],
   "source": [
    "def brute_force(data, bound):\n",
    "    if isinstance(data, str):\n",
    "        df, nums = get_problem(data)\n",
    "        schedule = df_to_schedule(df, nums)\n",
    "        jobs = schedule.jobss\n",
    "    else:\n",
    "        jobs = data\n",
    "    \n",
    "    best_makespan = 1000000000\n",
    "    best_schedule = None\n",
    "    bound_check = 1\n",
    "    for job_order in list(itertools.permutations(jobs)):\n",
    "        s = Schedule(job_order, len(jobs[0].tasks))\n",
    "        if(s.makespan() < best_makespan):\n",
    "            best_makespan = s.makespan()\n",
    "            print(f\"New Best Makespan: {best_makespan}\")\n",
    "            best_schedule = s\n",
    "        if bound_check >= bound:\n",
    "            break\n",
    "        bound_check += 1\n",
    "        \n",
    "    return best_schedule"
   ]
  },
  {
   "cell_type": "code",
   "execution_count": 623,
   "id": "e413c0fb",
   "metadata": {},
   "outputs": [
    {
     "name": "stdout",
     "output_type": "stream",
     "text": [
      "Iteration: 0 Current_pop: 150 average_makespan: 1443.22\n",
      "New best: 1444\n",
      "New best: 1413\n",
      "New best: 1392\n",
      "Iteration: 10 Current_pop: 150 average_makespan: 1437.78\n",
      "New best: 1377\n",
      "Iteration: 20 Current_pop: 150 average_makespan: 1445.3133333333333\n",
      "New best: 1369\n",
      "Iteration: 30 Current_pop: 150 average_makespan: 1450.3133333333333\n",
      "New best: 1360\n",
      "Iteration: 40 Current_pop: 150 average_makespan: 1445.6466666666668\n",
      "Iteration: 50 Current_pop: 150 average_makespan: 1439.2066666666667\n",
      "Iteration: 60 Current_pop: 150 average_makespan: 1439.9466666666667\n",
      "Iteration: 70 Current_pop: 150 average_makespan: 1449.4266666666667\n",
      "Iteration: 80 Current_pop: 150 average_makespan: 1457.8933333333334\n",
      "Iteration: 90 Current_pop: 150 average_makespan: 1463.12\n",
      "Iteration: 100 Current_pop: 150 average_makespan: 1463.1933333333334\n",
      "Iteration: 110 Current_pop: 150 average_makespan: 1470.4933333333333\n",
      "New best: 1339\n",
      "Iteration: 120 Current_pop: 150 average_makespan: 1448.0933333333332\n",
      "Iteration: 130 Current_pop: 150 average_makespan: 1436.8333333333333\n",
      "New best: 1335\n",
      "Iteration: 140 Current_pop: 150 average_makespan: 1422.64\n",
      "New best: 1328\n",
      "Iteration: 150 Current_pop: 150 average_makespan: 1424.6\n",
      "Iteration: 160 Current_pop: 150 average_makespan: 1426.5266666666666\n",
      "Iteration: 170 Current_pop: 150 average_makespan: 1430.4866666666667\n",
      "Iteration: 180 Current_pop: 150 average_makespan: 1412.6933333333334\n",
      "Iteration: 190 Current_pop: 150 average_makespan: 1428.4066666666668\n",
      "Iteration: 200 Current_pop: 150 average_makespan: 1439.8866666666668\n",
      "Iteration: 210 Current_pop: 150 average_makespan: 1427.92\n",
      "Iteration: 220 Current_pop: 150 average_makespan: 1430.94\n",
      "Iteration: 230 Current_pop: 150 average_makespan: 1442.9333333333334\n",
      "Iteration: 240 Current_pop: 150 average_makespan: 1446.1\n",
      "Iteration: 250 Current_pop: 150 average_makespan: 1441.7333333333333\n",
      "Iteration: 260 Current_pop: 150 average_makespan: 1431.9066666666668\n",
      "Iteration: 270 Current_pop: 150 average_makespan: 1425.6066666666666\n",
      "Iteration: 280 Current_pop: 150 average_makespan: 1431.6666666666667\n",
      "Iteration: 290 Current_pop: 150 average_makespan: 1428.14\n",
      "Iteration: 300 Current_pop: 150 average_makespan: 1433.5466666666666\n",
      "Iteration: 310 Current_pop: 150 average_makespan: 1455.62\n",
      "Iteration: 320 Current_pop: 150 average_makespan: 1428.7333333333333\n",
      "Iteration: 330 Current_pop: 150 average_makespan: 1434.6466666666668\n",
      "New best: 1324\n",
      "Iteration: 340 Current_pop: 150 average_makespan: 1432.8266666666666\n",
      "Iteration: 350 Current_pop: 150 average_makespan: 1428.9066666666668\n",
      "Iteration: 360 Current_pop: 150 average_makespan: 1422.96\n",
      "New best: 1323\n",
      "Iteration: 370 Current_pop: 150 average_makespan: 1410.5933333333332\n",
      "New best: 1306\n",
      "Iteration: 380 Current_pop: 150 average_makespan: 1415.6533333333334\n",
      "Iteration: 390 Current_pop: 150 average_makespan: 1413.3\n",
      "Iteration: 400 Current_pop: 150 average_makespan: 1411.02\n",
      "Iteration: 410 Current_pop: 150 average_makespan: 1399.6066666666666\n",
      "Iteration: 420 Current_pop: 150 average_makespan: 1409.4666666666667\n",
      "Iteration: 430 Current_pop: 150 average_makespan: 1418.7466666666667\n",
      "Iteration: 440 Current_pop: 150 average_makespan: 1413.2866666666666\n",
      "Iteration: 450 Current_pop: 150 average_makespan: 1423.8666666666666\n",
      "Iteration: 460 Current_pop: 150 average_makespan: 1416.8733333333332\n",
      "Iteration: 470 Current_pop: 150 average_makespan: 1409.2933333333333\n",
      "Iteration: 480 Current_pop: 150 average_makespan: 1412.7733333333333\n",
      "Iteration: 490 Current_pop: 150 average_makespan: 1414.2866666666666\n",
      "|15 8 19 9 6 5 3 13 16 4 1 14 17 11 10 7 18 12 2 20 |\n"
     ]
    },
    {
     "data": {
      "image/png": "[encoded data removed]",
      "text/plain": [
       "<Figure size 432x288 with 1 Axes>"
      ]
     },
     "metadata": {
      "needs_background": "light"
     },
     "output_type": "display_data"
    }
   ],
   "source": [
    "def run(data, generations, pop_size, mutation_rate, crossover_rate):\n",
    "    # Makespan history\n",
    "    ms_hist = []\n",
    "    \n",
    "    # Randomize schedules from input file jobs\n",
    "    if isinstance(data, str):\n",
    "        df, nums = get_problem(data)\n",
    "        s = df_to_schedule(df, nums)\n",
    "        initial_pop = [s.random_copy() for x in range(pop_size)]\n",
    "    # Ranomize schedules from array of jobs\n",
    "    else:\n",
    "        initial_pop = [Schedule(data, data[0].n).randomize() for x in range(pop_size)]\n",
    "    \n",
    "    current_pop = initial_pop\n",
    "    \n",
    "    scores = [s.makespan() for s in current_pop]\n",
    "    \n",
    "    best_individual = current_pop[np.argmin(scores)]\n",
    "    # Track best score found so far\n",
    "    \n",
    "    ms_hist.append(sum(scores)/pop_size)\n",
    "    \n",
    "    \n",
    "    for gen in range(generations):\n",
    "        new_pop = []\n",
    "        num_clones = pop_size - round((pop_size * crossover_rate))\n",
    "        num_children = pop_size - num_clones\n",
    "    \n",
    "        surviving = GA.roulette_selection(current_pop, num_clones)\n",
    "        \n",
    "        for i in range(num_children):\n",
    "            parents = GA.roulette_selection(current_pop, 2)\n",
    "            child = GA.op_cross(parents[0], parents[1])\n",
    "            new_pop.append(child)\n",
    "            \n",
    "        new_pop = new_pop + surviving\n",
    "        \n",
    "        for schedule in new_pop:\n",
    "            GA.exchange_mutation(schedule, mutation_rate)\n",
    "            \n",
    "        current_pop = new_pop\n",
    "        if(gen % 10 == 0):\n",
    "            print(f\"Iteration: {gen} Current_pop: {len(current_pop)} average_makespan: {sum([s.makespan() for s in current_pop])/pop_size}\")\n",
    "        \n",
    "        scores = [s.makespan() for s in current_pop]\n",
    "        best_in_pop = current_pop[np.argmin(scores)]\n",
    "        \n",
    "        if (best_in_pop.makespan() < best_individual.makespan()):\n",
    "            print(f\"New best: {best_individual.makespan()}\")\n",
    "            best_individual = best_in_pop\n",
    "        \n",
    "        ms_hist.append(sum(scores)/pop_size)\n",
    "    return best_individual, ms_hist\n",
    "\n",
    "s, x = run(\"dataset/ta001.txt\", 500, 150, 0.1, 0.8)\n",
    "plt.plot(x)\n",
    "print(s)"
   ]
  },
  {
   "cell_type": "code",
   "execution_count": 626,
   "id": "ac7cd81d",
   "metadata": {},
   "outputs": [
    {
     "name": "stdout",
     "output_type": "stream",
     "text": [
      "|15 8 19 9 6 5 3 13 16 4 1 14 17 11 10 7 18 12 2 20 |\n"
     ]
    }
   ],
   "source": [
    "print(s)"
   ]
  },
  {
   "cell_type": "code",
   "execution_count": 441,
   "id": "b3855ce9",
   "metadata": {},
   "outputs": [],
   "source": [
    "pd.DataFrame(x).to_csv(f\"experiments/{test.csv\")"
   ]
  },
  {
   "cell_type": "code",
   "execution_count": 449,
   "id": "bb1472c1",
   "metadata": {},
   "outputs": [
    {
     "name": "stdout",
     "output_type": "stream",
     "text": [
      "0\n",
      "10\n",
      "20\n",
      "30\n",
      "40\n"
     ]
    },
    {
     "data": {
      "image/png": "[encoded data removed]",
      "text/plain": [
       "<Figure size 432x288 with 1 Axes>"
      ]
     },
     "metadata": {
      "needs_background": "light"
     },
     "output_type": "display_data"
    }
   ],
   "source": [
    "p_size = 150\n",
    "# jobs = []\n",
    "# jobs.append(Job([4,2], 1))\n",
    "# jobs.append(Job([5,6], 2))\n",
    "# jobs.append(Job([9,8], 3))\n",
    "# jobs.append(Job([7,1], 4))\n",
    "# jobs.append(Job([3,11], 5))\n",
    "\n",
    "df, nums = get_problem(\"dataset/ta001.txt\")\n",
    "avg = []\n",
    "s = df_to_schedule(df, nums)\n",
    "for x in range(50):\n",
    "    random_pop = [s.random_copy() for x in range(p_size)]\n",
    "    if(x % 10 == 0):\n",
    "        print(x)\n",
    "    avg.append(sum([s.makespan() for s in random_pop])/p_size)\n",
    "    \n",
    "#     if(x % 100 == 0):\n",
    "#         print(min([s.makespan() for s in random_pop]))\n",
    "makespan_hist(avg)\n",
    "\n",
    "# avg_roulette = []\n",
    "# for x in range(500):\n",
    "#     random_pop = [Schedule(jobs, 2).randomize() for x in range(p_size + 50)]\n",
    "#     better = GA.roulette_selection(random_pop, 100)\n",
    "#     assert(len(better) == 100)\n",
    "#     avg_roulette.append(sum([s.makespan() for s in better])/p_size)\n",
    "# makespan_hist(avg_roulette)\n"
   ]
  },
  {
   "cell_type": "code",
   "execution_count": 413,
   "id": "3248a501",
   "metadata": {},
   "outputs": [
    {
     "name": "stdout",
     "output_type": "stream",
     "text": [
      "Iteration: 0 Current_pop: 100 average_makespan: 33.64\n",
      "Iteration: 10 Current_pop: 100 average_makespan: 26.81\n",
      "Iteration: 20 Current_pop: 100 average_makespan: 27.45\n",
      "Iteration: 30 Current_pop: 100 average_makespan: 26.59\n",
      "Iteration: 40 Current_pop: 100 average_makespan: 23.77\n"
     ]
    },
    {
     "data": {
      "image/png": "[encoded data removed]",
      "text/plain": [
       "<Figure size 432x288 with 1 Axes>"
      ]
     },
     "metadata": {
      "needs_background": "light"
     },
     "output_type": "display_data"
    }
   ],
   "source": [
    "x = run(jobs, 50, p_size, 0.1, 0.8)\n",
    "makespan_hist(x)\n",
    "\n",
    "# random"
   ]
  },
  {
   "cell_type": "code",
   "execution_count": 370,
   "id": "7cc2f878",
   "metadata": {},
   "outputs": [
    {
     "name": "stdout",
     "output_type": "stream",
     "text": [
      "True 32 , False: 68\n"
     ]
    }
   ],
   "source": [
    "df, nums = get_problem(\"dataset/ta001.txt\")\n",
    "initial_pop = [df_to_schedule(df, nums).randomize() for x in range(100)]\n",
    "true = 0\n",
    "false = 0\n",
    "for x in range(100):\n",
    "    better = GA.roulette_selection(initial_pop, 30)\n",
    "    if(sum([x.makespan() for x in initial_pop[:30]]) > sum([x.makespan() for x in better])):\n",
    "       true += 1\n",
    "    else:\n",
    "       false += 1\n",
    "print(f\"True {true} , False: {false}\")"
   ]
  },
  {
   "cell_type": "code",
   "execution_count": 371,
   "id": "e5805082",
   "metadata": {},
   "outputs": [],
   "source": [
    "\n"
   ]
  },
  {
   "cell_type": "code",
   "execution_count": 611,
   "id": "0247ac20",
   "metadata": {},
   "outputs": [],
   "source": [
    "class GA():\n",
    "    @staticmethod\n",
    "    def op_cross(s1, s2):\n",
    "        j1 = s1.jobs\n",
    "        j2 = s2.jobs\n",
    "        child = [0] * len(j1)\n",
    "        \n",
    "        # Selecting random index in parent one\n",
    "        point = randrange(0, len(j1))\n",
    "        \n",
    "        LR = bool(getrandbits(1))\n",
    "        # Going left or right from point to start child gene\n",
    "        # Left from index\n",
    "        if(LR):\n",
    "            child[0:point+1] = j1[0:point+1]\n",
    "            comp = child[0:point+1]\n",
    "            empty = [x for x in range(point+1, len(j1))]\n",
    "        # Right from index\n",
    "        else:\n",
    "            child[point:] = j1[point:]\n",
    "            comp = child[point:]\n",
    "            empty = [x for x in range(0, point+1)]\n",
    "        \n",
    "        index = 0\n",
    "        # Getting remaining values from second parent, in order\n",
    "        for i, job in enumerate(j2):\n",
    "            if job not in comp:\n",
    "                child[empty[index]] = job\n",
    "                index += 1\n",
    "                \n",
    "        child_s = Schedule(child, s1.m)\n",
    "            \n",
    "        return child_s\n",
    "    \n",
    "    @staticmethod\n",
    "    def tp_cross(s1, s2):\n",
    "        j1 = s1.jobs\n",
    "        j2 = s2.jobs\n",
    "        child = [0] * len(j1)\n",
    "        \n",
    "        # Selecting two random indexes in parent one\n",
    "        p1 = randrange(0, len(j1))\n",
    "        p2 = randrange(0, len(j1))\n",
    "        \n",
    "        l = min(p1, p2)\n",
    "        r = max(p1, p2)\n",
    "        full = [x for x in range(l, r+1)]\n",
    "        comp = j1[l:r+1]\n",
    "        # Going left or right from point to start child gene\n",
    "        # Left from index\n",
    "        child[l:r+1] = j1[l:r+1]\n",
    "        print(child)\n",
    "                    \n",
    "        empty_indices = [x for x in range(0, len(j1)) if x not in full]\n",
    "        \n",
    "        index = 0     \n",
    "        for job in j2:\n",
    "            if job not in comp:\n",
    "                child[empty_indices[index]] = job\n",
    "                index += 1\n",
    "                \n",
    "        child_s = Schedule(child, s1.m)\n",
    "            \n",
    "        return child_s\n",
    "    \n",
    "    @staticmethod\n",
    "    def exchange_mutation(s, prob):\n",
    "        if(random() > prob):\n",
    "            return\n",
    "    \n",
    "        jobs = s.jobs\n",
    "        \n",
    "        p1 = randrange(0, len(jobs))\n",
    "        p2 = randrange(0, len(jobs)) \n",
    "        \n",
    "        jobs[p1], jobs[p2] = jobs[p2] , jobs[p1]\n",
    "        \n",
    "        s.jobs = jobs\n",
    "        s.set_permutation()\n",
    "        \n",
    "    @staticmethod\n",
    "    def shift_mutation(s, prob):\n",
    "        if(random() > prob):\n",
    "            return\n",
    "    \n",
    "        jobs = s.jobs\n",
    "        \n",
    "        p1 = randrange(0, len(j1)) \n",
    "        p2 = randrange(0, len(j1)) \n",
    "        job = jobs[p1]\n",
    "        jobs.remove(p1)\n",
    "        jobs.add(job, p2)\n",
    "        \n",
    "        \n",
    "        s.jobs = jobs\n",
    "        s.set_permutations()\n",
    "        \n",
    "    @staticmethod\n",
    "    def roulette_selection(pop, n):\n",
    "        total_inv = sum([1./s.makespan() for s in pop])\n",
    "\n",
    "        selection_probs = [(1./s.makespan())/total_inv for s in pop]\n",
    "\n",
    "        # Take out two least fit individuals\n",
    "        new_pop = np.random.choice(pop, size=n, replace=False, p=selection_probs)\n",
    "\n",
    "        return new_pop.tolist()\n",
    "\n",
    "    # Get index list of sorted fitness\n",
    "    @staticmethod\n",
    "    def fitness_indexes(pop):\n",
    "        fitness_values = []\n",
    "        for p in pop:\n",
    "            fitness_values.append(p.makespan())\n",
    "        return np.argsort(fitness_values)"
   ]
  },
  {
   "cell_type": "code",
   "execution_count": 610,
   "id": "989c129e",
   "metadata": {},
   "outputs": [
    {
     "name": "stdout",
     "output_type": "stream",
     "text": [
      "31134\n",
      "30148\n"
     ]
    }
   ],
   "source": [
    "jobs = []\n",
    "jobs.append(Job([4,2], 1))\n",
    "jobs.append(Job([35,6], 2))\n",
    "jobs.append(Job([9,8], 3))\n",
    "jobs.append(Job([7,35], 4))\n",
    "jobs.append(Job([1,11], 5))\n",
    "\n",
    "# s = Schedule(jobs, 2)\n",
    "\n",
    "df, nums = get_problem(\"dataset/ta120.txt\")\n",
    "s1 = df_to_schedule(df, nums)\n",
    "s2 = df_to_schedule(df, nums)\n",
    "# Fast makespan\n",
    "# print(s.fast_makespan())\n",
    "# print(s.makespan())\n",
    "# print(s.jobs)\n",
    "s1.randomize()\n",
    "print(s1.makespan())\n",
    "print(s2.makespan())"
   ]
  },
  {
   "cell_type": "code",
   "execution_count": 613,
   "id": "bb8691bc",
   "metadata": {},
   "outputs": [],
   "source": [
    "class Schedule():\n",
    "    def __init__(self, jobs, num_machines):\n",
    "        self.jobs = jobs\n",
    "        \n",
    "        self.m = num_machines\n",
    "        \n",
    "        self.machines = []\n",
    "\n",
    "        self.set_permutation()\n",
    "        \n",
    "        self.makespan_matrix = None\n",
    "    \n",
    "#     def randomGenome(self):\n",
    "#         for m in range(self.m):\n",
    "#             self.machines.append([])\n",
    "#             for i, job in enumerate(self.jobs):\n",
    "#                 if(job.n > m):\n",
    "#                     self.machines[m].append(job.tasks[m])\n",
    "#             shuffle(self.machines[m])\n",
    "\n",
    "    def makespan(self):\n",
    "        if self.makespan_matrix is None:\n",
    "            # Num machines x Num Jobs\n",
    "            end_times = np.zeros((self.m, len(self.jobs)))\n",
    "\n",
    "            end_times[0][0] = self.jobs[0].tasks[0].length\n",
    "            for i in range(1, len(self.jobs)):\n",
    "                end_times[0][i] = end_times[0][i-1] + self.jobs[i].tasks[0].length\n",
    "\n",
    "            for x in range(1, self.m):\n",
    "                for y, job in enumerate(self.jobs):\n",
    "    #                 print(job)\n",
    "                    if (y ==0):\n",
    "                        end_times[x][y] = end_times[x-1][y] + job.tasks[x].length\n",
    "                    else:\n",
    "                        prereq_end = end_times[x-1][y]\n",
    "\n",
    "                        prev_task_end = end_times[x][y-1]\n",
    "    #                     print(fprereq_end, prev_task_end)\n",
    "\n",
    "                        end_times[x][y] = max(prereq_end, prev_task_end) + job.tasks[x].length\n",
    "\n",
    "            self.makespan_matrix = end_times\n",
    "        \n",
    "        return int(self.makespan_matrix[-1][-1])\n",
    "                \n",
    "                \n",
    "        # First operation on each\n",
    "        track = self.machines[0]\n",
    "        track[0].set_start(0)\n",
    "        for i in range(1, len(track)):\n",
    "            track[i].set_start(track[i-1].end)\n",
    "             \n",
    "        for machine in self.machines[1:]:\n",
    "            for i, task in enumerate(machine):\n",
    "                if i == 0:\n",
    "                    task.set_start(task.parent.end)\n",
    "                else:\n",
    "                    #start is the max of parent.end and i-1 End\n",
    "                    legal_start = max(task.parent.end, machine[i-1].end)\n",
    "                    task.set_start(legal_start)\n",
    "            \n",
    "    def set_permutation(self):\n",
    "        self.machines = []\n",
    "        for m in range(self.m):\n",
    "            self.machines.append([])\n",
    "            for i, job in enumerate(self.jobs):\n",
    "                if(job.n > m):\n",
    "                    self.machines[m].append(job.tasks[m])\n",
    "        self.update_times()\n",
    "        \n",
    "    def randomize(self):\n",
    "        shuffle(self.jobs)\n",
    "#         self.set_permutation();\n",
    "        self.makespan_matrix = None\n",
    "        return self\n",
    "    \n",
    "    def random_copy(self):\n",
    "        s = Schedule(self.jobs, self.m)\n",
    "        s.randomize()\n",
    "        self.makespan_matrix = None\n",
    "        return s\n",
    "        \n",
    "    def set_order(self, jobs):\n",
    "        assert(len(jobs) == self.jobs)\n",
    "        self.jobs = jobs\n",
    "        self.set_permutation()\n",
    "        self.makespan_matrix = None\n",
    "        \n",
    "         \n",
    "    def update_times(self):\n",
    "        self.makespan_matrix = None\n",
    "        # First operation on each\n",
    "        track = self.machines[0]\n",
    "        track[0].set_start(0)\n",
    "        for i in range(1, len(track)):\n",
    "            track[i].set_start(track[i-1].end)\n",
    "             \n",
    "        for machine in self.machines[1:]:\n",
    "            for i, task in enumerate(machine):\n",
    "                if i == 0:\n",
    "                    task.set_start(task.parent.end)\n",
    "                else:\n",
    "                    #start is the max of parent.end and i-1 End\n",
    "                    legal_start = max(task.parent.end, machine[i-1].end)\n",
    "                    task.set_start(legal_start)\n",
    "        \n",
    "    def print_times(self):\n",
    "        for machine in self.machines:\n",
    "            track_schedule = \"\"\n",
    "            for task in machine:\n",
    "                track_schedule += f\"{task.start} - {task.end} |\"\n",
    "            print(track_schedule)\n",
    "            \n",
    "    def get_df(self):\n",
    "        df = {\"job\" : [], \"task\": [],  \"start\": [], \"end\": [], \"machine\": []}\n",
    "        count = 1\n",
    "        for i, machine in enumerate(self.machines):\n",
    "            for task in machine:\n",
    "                df[\"job\"].append(task.ID[0])\n",
    "                df[\"task\"].append(task.ID[1])\n",
    "                df[\"start\"].append(task.start)\n",
    "                df[\"end\"].append(task.end)\n",
    "                df[\"machine\"].append(i+1)\n",
    "                count += 1\n",
    "        return pd.DataFrame(data=df)\n",
    "\n",
    "    \n",
    "    def __repr__(self):\n",
    "        rep = \"|\"\n",
    "        for job in self.jobs:\n",
    "            rep += str(job) + \" \"\n",
    "        return rep + \"|\"\n",
    "                    \n"
   ]
  },
  {
   "cell_type": "code",
   "execution_count": 247,
   "id": "924e05cd",
   "metadata": {},
   "outputs": [],
   "source": [
    "class Job():\n",
    "    def __init__(self, length_per_task, job_id=-1):\n",
    "        self.n = len(length_per_task)\n",
    "        self.tasks = []\n",
    "        self.start = 0\n",
    "        self.end = 0\n",
    "        self.ID = job_id\n",
    "        #Linked list of task hierarchy\n",
    "        for i, length in enumerate(length_per_task):\n",
    "            self.tasks.append(Task(None, length, (job_id, i)))\n",
    "        for i in range(1, len(self.tasks)):\n",
    "            self.tasks[i].parent = self.tasks[i-1]\n",
    "            \n",
    "    def __hash__(self):\n",
    "        return self.ID\n",
    "    \n",
    "    def __eq__(self, other):\n",
    "        return self.ID == other.ID\n",
    "    \n",
    "    def __str__(self):\n",
    "        return str(self.ID)\n",
    "    \n",
    "    def __repr__(self):\n",
    "        return str(self.ID)\n",
    "                                           "
   ]
  },
  {
   "cell_type": "code",
   "execution_count": 248,
   "id": "ddb368a5",
   "metadata": {},
   "outputs": [],
   "source": [
    "class Task():\n",
    "    def __init__(self, parent, length, ID = None):\n",
    "        self.parent = parent # Task that preceedes this\n",
    "        self.length = length # How long task will take\n",
    "        self.ID = ID\n",
    "        \n",
    "    def __str__(self):\n",
    "        return str(self.ID)\n",
    "    \n",
    "    def set_start(self, start):\n",
    "        self.start = start\n",
    "        self.end = start + self.length"
   ]
  },
  {
   "cell_type": "code",
   "execution_count": null,
   "id": "aee9a441",
   "metadata": {},
   "outputs": [],
   "source": []
  }
 ],
 "metadata": {
  "kernelspec": {
   "display_name": "Python 3 (ipykernel)",
   "language": "python",
   "name": "python3"
  },
  "language_info": {
   "codemirror_mode": {
    "name": "ipython",
    "version": 3
   },
   "file_extension": ".py",
   "mimetype": "text/x-python",
   "name": "python",
   "nbconvert_exporter": "python",
   "pygments_lexer": "ipython3",
   "version": "3.8.12"
  }
 },
 "nbformat": 4,
 "nbformat_minor": 5
}

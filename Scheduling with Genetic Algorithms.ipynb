{
 "cells": [
  {
   "cell_type": "markdown",
   "id": "49198f76",
   "metadata": {},
   "source": [
    "# Flow-Shop Scheduling"
   ]
  },
  {
   "cell_type": "code",
   "execution_count": 384,
   "id": "889186bf",
   "metadata": {},
   "outputs": [],
   "source": [
    "import pandas as pd\n",
    "import random\n",
    "import plotly.express as px\n",
    "import pandas as pd\n",
    "import matplotlib.pyplot as plt\n",
    "import numpy as np\n",
    "from matplotlib.patches import Patch"
   ]
  },
  {
   "cell_type": "code",
   "execution_count": 443,
   "id": "16661cdb",
   "metadata": {},
   "outputs": [],
   "source": [
    "def get_problem(filepath):\n",
    "    with open(filepath) as f:\n",
    "        firstline = f.readline().rstrip()\n",
    "        nums = firstline.split(\" \")     \n",
    "    data = pd.read_csv(filepath, sep= \" \", header=None, skiprows=1)\n",
    "    return data, nums\n",
    "\n",
    "def df_to_schedule(data, nums):\n",
    "    data = data.to_numpy()\n",
    "    jobs = []\n",
    "    for row in data:\n",
    "        jobs.append(Job(row))\n",
    "    schedule = Schedule(jobs, int(nums[1]))\n",
    "    return schedule\n",
    "    "
   ]
  },
  {
   "cell_type": "code",
   "execution_count": 458,
   "id": "52cad962",
   "metadata": {},
   "outputs": [
    {
     "name": "stdout",
     "output_type": "stream",
     "text": [
      "2742\n",
      "2714\n",
      "2601\n",
      "2571\n",
      "2567\n",
      "2537\n",
      "2534\n",
      "2528\n",
      "2503\n"
     ]
    },
    {
     "data": {
      "image/png": "[encoded data removed]",
      "text/plain": [
       "<Figure size 1152x432 with 1 Axes>"
      ]
     },
     "metadata": {
      "needs_background": "light"
     },
     "output_type": "display_data"
    },
    {
     "name": "stdout",
     "output_type": "stream",
     "text": [
      "2503\n"
     ]
    },
    {
     "data": {
      "image/png": "[encoded data removed]",
      "text/plain": [
       "<Figure size 432x288 with 1 Axes>"
      ]
     },
     "metadata": {
      "needs_background": "light"
     },
     "output_type": "display_data"
    }
   ],
   "source": [
    "df, nums = get_problem(\"dataset/ta030.txt\")\n",
    "makespan_list = []\n",
    "best = None\n",
    "best_t = 10000000\n",
    "for i in range(500):\n",
    "    s = df_to_schedule(df, nums)\n",
    "    s.randomPermutation()\n",
    "    s.update_times()\n",
    "    makespan_list.append(s.makespan())\n",
    "    if (s.makespan() < best_t):\n",
    "        print(s.makespan())\n",
    "        best_t = s.makespan()\n",
    "        best = s\n",
    "\n",
    "        \n",
    "\n",
    "gantt_chart(best)\n",
    "makespan_hist(makespan_list)"
   ]
  },
  {
   "cell_type": "code",
   "execution_count": 455,
   "id": "5c01cdb7",
   "metadata": {},
   "outputs": [],
   "source": [
    "def gantt_chart(schedule):\n",
    "#     c_dict = {1:'red', 2:'blue', 3: 'yellow', 4:'green', 5: \"orange\", 6: \"black\", 7:\"purple\", 8: \"grey\"}\n",
    "#     def color(row):\n",
    "#         return c_dict[row['job']]\n",
    "    df = schedule.get_df()\n",
    "#     df['color'] = df.apply(color, axis=1)\n",
    "#     legend_elements = [Patch(facecolor=c_dict[i], label=i)  for i in c_dict]\n",
    "    df['width'] = (df.end-df.start)\n",
    "    fig, ax = plt.subplots(1, figsize=(16,6))\n",
    "    ax.barh(df.machine, df.width, left=df.start, edgecolor='white')\n",
    "#     plt.legend(handles=legend_elements)\n",
    "    plt.show()\n",
    "    print(schedule.makespan())"
   ]
  },
  {
   "cell_type": "code",
   "execution_count": 353,
   "id": "c12b48d6",
   "metadata": {},
   "outputs": [],
   "source": [
    "def iteration_vs_makespan(makespan_list):\n",
    "    x = [x for x in range(1, len(makespan_list) +1)]\n",
    "    plt.scatter(x, makespan_list)"
   ]
  },
  {
   "cell_type": "code",
   "execution_count": 354,
   "id": "531c9e4c",
   "metadata": {},
   "outputs": [],
   "source": [
    "def makespan_hist(makespan_list):\n",
    "    binwidth = 4\n",
    "    plt.hist(makespan_list, bins=range(min(makespan_list), max(makespan_list) + binwidth, binwidth), linewidth=2,\n",
    "             edgecolor='white')"
   ]
  },
  {
   "cell_type": "code",
   "execution_count": 362,
   "id": "bb8691bc",
   "metadata": {},
   "outputs": [],
   "source": [
    "class Schedule():\n",
    "    def __init__(self, jobs, num_machines):\n",
    "        self.jobs = jobs\n",
    "        self.m = num_machines\n",
    "        \n",
    "        # MxN array\n",
    "        self.machines = []\n",
    "        \n",
    "        for i, job in enumerate(self.jobs):\n",
    "            for j, task in enumerate(job.tasks):\n",
    "                task.ID = (i+1, j+1)\n",
    "    \n",
    "    def randomGenome(self):\n",
    "        for m in range(self.m):\n",
    "            self.machines.append([])\n",
    "            for i, job in enumerate(self.jobs):\n",
    "                if(job.n > m):\n",
    "                    self.machines[m].append(job.tasks[m])\n",
    "            random.shuffle(self.machines[m])\n",
    "            \n",
    "    def randomPermutation(self):\n",
    "        job_order = [job for job in self.jobs]\n",
    "        random.shuffle(job_order)\n",
    "        \n",
    "        for m in range(self.m):\n",
    "            self.machines.append([])\n",
    "            for i, job in enumerate(job_order):\n",
    "                if(job.n > m):\n",
    "                    self.machines[m].append(job.tasks[m])    \n",
    "         \n",
    "    def update_times(self):\n",
    "        # First operation on each\n",
    "        track = self.machines[0]\n",
    "        track[0].set_start(0)\n",
    "        for i in range(1, len(track)):\n",
    "            track[i].set_start(track[i-1].end)\n",
    "             \n",
    "        for machine in self.machines[1:]:\n",
    "            for i, task in enumerate(machine):\n",
    "                if i == 0:\n",
    "                    task.set_start(task.parent.end)\n",
    "                else:\n",
    "                    #start is the max of parent.end and i-1 End\n",
    "                    legal_start = max(task.parent.end, machine[i-1].end)\n",
    "                    task.set_start(legal_start)\n",
    "        \n",
    "    def print_times(self):\n",
    "        for machine in self.machines:\n",
    "            track_schedule = \"\"\n",
    "            for task in machine:\n",
    "                track_schedule += f\"{task.start} - {task.end} |\"\n",
    "            print(track_schedule)\n",
    "            \n",
    "    def get_df(self):\n",
    "        df = {\"job\" : [], \"task\": [],  \"start\": [], \"end\": [], \"machine\": []}\n",
    "        count = 1\n",
    "        for i, machine in enumerate(self.machines):\n",
    "            for task in machine:\n",
    "                df[\"job\"].append(task.ID[0])\n",
    "                df[\"task\"].append(task.ID[1])\n",
    "                df[\"start\"].append(task.start)\n",
    "                df[\"end\"].append(task.end)\n",
    "                df[\"machine\"].append(i+1)\n",
    "                count += 1\n",
    "        return pd.DataFrame(data=df)\n",
    "    \n",
    "    def makespan(self):\n",
    "        return self.machines[-1][-1].end\n",
    "                    \n"
   ]
  },
  {
   "cell_type": "code",
   "execution_count": 183,
   "id": "924e05cd",
   "metadata": {},
   "outputs": [],
   "source": [
    "class Job():\n",
    "    def __init__(self, length_per_task):\n",
    "        self.n = len(length_per_task)\n",
    "        self.tasks = []\n",
    "        self.start = 0\n",
    "        self.end = 0\n",
    "        #Linked list of task hierarchy\n",
    "        for length in length_per_task:\n",
    "            self.tasks.append(Task(None, length))\n",
    "        for i in range(1, len(self.tasks)):\n",
    "            self.tasks[i].parent = self.tasks[i-1]\n",
    "                                           "
   ]
  },
  {
   "cell_type": "code",
   "execution_count": 4,
   "id": "ddb368a5",
   "metadata": {},
   "outputs": [],
   "source": [
    "class Task():\n",
    "    def __init__(self, parent, length):\n",
    "        self.parent = parent # Task that preceedes this\n",
    "        self.length = length # How long task will take\n",
    "        self.ID = (0, 0)\n",
    "        \n",
    "    def __str__(self):\n",
    "        return str(self.ID)\n",
    "    \n",
    "    def set_start(self, start):\n",
    "        self.start = start\n",
    "        self.end = start + self.length"
   ]
  }
 ],
 "metadata": {
  "kernelspec": {
   "display_name": "Python 3 (ipykernel)",
   "language": "python",
   "name": "python3"
  },
  "language_info": {
   "codemirror_mode": {
    "name": "ipython",
    "version": 3
   },
   "file_extension": ".py",
   "mimetype": "text/x-python",
   "name": "python",
   "nbconvert_exporter": "python",
   "pygments_lexer": "ipython3",
   "version": "3.8.12"
  }
 },
 "nbformat": 4,
 "nbformat_minor": 5
}

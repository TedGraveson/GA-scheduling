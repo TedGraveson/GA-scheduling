{
 "cells": [
  {
   "cell_type": "code",
   "execution_count": 2,
   "metadata": {},
   "outputs": [],
   "source": [
    "import numpy as np"
   ]
  },
  {
   "cell_type": "code",
   "execution_count": 3,
   "metadata": {},
   "outputs": [],
   "source": [
    "DAYS = {\"M\": \"000\", \"T\": \"001\", \"W\": \"010\", \"TH\": \"011\", \"F\":\"100\"}"
   ]
  },
  {
   "cell_type": "code",
   "execution_count": 4,
   "metadata": {},
   "outputs": [],
   "source": [
    "TIMES = {8: \"0000\", 9: \"0001\", 10: \"0010\", 11: \"0011\", 12: \"0100\", 13: \"0101\", 14: \"0110\", 15: \"0111\", 16: \"1000\"}"
   ]
  },
  {
   "cell_type": "code",
   "execution_count": 5,
   "metadata": {},
   "outputs": [],
   "source": [
    "ROOMS = {\"R1\": \"0000\", \"R2\": \"0001\", \"R3\": \"0010\", \"R4\": \"0011\", \"R5\": \"0100\", \"R6\": \"0101\", \"R7\": \"0110\", \"R8\": \"0111\", \"R9\": \"1000\"}"
   ]
  },
  {
   "cell_type": "code",
   "execution_count": 6,
   "metadata": {},
   "outputs": [],
   "source": [
    "TEACHERS = {\"T1\": \"0000\", \"T2\": \"0001\", \"T3\": \"0010\", \"T4\": \"0011\", \"T5\": \"0100\", \"T6\": \"0101\", \"T7\": \"0110\", \"T8\": \"0111\", \"T9\": \"1000\"}"
   ]
  },
  {
   "cell_type": "code",
   "execution_count": 7,
   "metadata": {},
   "outputs": [],
   "source": [
    "CLASS = {\"C1\": \"0000\", \"C2\": \"0001\", \"C3\": \"0010\", \"C4\": \"0011\", \"C5\": \"0100\", \"C6\": \"0101\", \"C7\": \"0110\", \"C8\": \"0111\", \"C9\": \"1000\"}"
   ]
  },
  {
   "cell_type": "code",
   "execution_count": 40,
   "metadata": {},
   "outputs": [],
   "source": [
    "DECODE = {\"DAYS\": DAYS, \"ROOMS\": ROOMS, \"TIMES\": TIMES, \"TEACHERS\": TEACHERS, \"CLASS\": CLASS}"
   ]
  },
  {
   "cell_type": "code",
   "execution_count": 8,
   "metadata": {},
   "outputs": [],
   "source": [
    "GENE_LENGTHS = {\"DAYS\": len(DAYS[\"M\"]), \"TIMES\": len(TIMES[8]), \"ROOMS\": len(ROOMS[\"R1\"]), \"TEACHERS\": len(TEACHERS[\"T1\"]),\n",
    "                \"CLASS\": len(CLASS[\"C1\"])}"
   ]
  },
  {
   "cell_type": "code",
   "execution_count": 65,
   "metadata": {},
   "outputs": [],
   "source": [
    "class Event:\n",
    "    def __init__(self, start, end, day):\n",
    "        self.start = start\n",
    "        self.end = end\n",
    "        self.day = day\n",
    "        \n",
    "        self.teacher = \"T1\"\n",
    "        self.class_name = \"C1\"\n",
    "        self.room = \"R1\"\n",
    "        \n",
    "    def is_overlapping(self, event):\n",
    "        end_during = self.end > timeslot.start and self.end <= timeslot.end\n",
    "        start_during = self.start >= timeslot.start and self.start < timeslot.end\n",
    "        same_day = self.day == timeslot.day\n",
    "        \n",
    "        return (end_during or start_during) and same_day\n",
    "\n",
    "    \n",
    "    def __str__(self):\n",
    "        return f\"{self.start}-{self.end} on {self.day}\"\n",
    "    \n",
    "    def time_gene(self):\n",
    "        return DAYS[self.day] + TIMES[self.start]\n",
    "    \n",
    "    def get_genome(self):\n",
    "        genome = \"\"\n",
    "        genome += self.time_gene()\n",
    "        genome += CLASS[self.class_name]\n",
    "        genome += TEACHERS[self.teacher]\n",
    "        return genome"
   ]
  },
  {
   "cell_type": "code",
   "execution_count": 60,
   "metadata": {},
   "outputs": [
    {
     "name": "stdout",
     "output_type": "stream",
     "text": [
      "False\n"
     ]
    }
   ],
   "source": [
    "print(TimeSlot(4, 5, \"M\").is_overlapping(TimeSlot(5, 6, \"M\")))"
   ]
  },
  {
   "cell_type": "code",
   "execution_count": 67,
   "metadata": {},
   "outputs": [],
   "source": [
    "class Schedule:\n",
    "    def __init__(self, start, end, numSlots):\n",
    "        self.schedule = []\n",
    "        \n",
    "        class_len = (end-start)/numSlots\n",
    "        print(f\"class len: {class_len}\")\n",
    "        \n",
    "        for day in DAYS.keys():\n",
    "\n",
    "            start_time = start\n",
    "            for slot in range(numSlots):\n",
    "                print(f\"Start {start_time} End: {start_time+class_len}\")\n",
    "                ts = Event(start_time, start_time+class_len, day)\n",
    "                start_time = start_time + class_len\n",
    "                self.schedule.append(ts)\n",
    "            \n",
    "    def __str__(self):\n",
    "        rep = \"\"\n",
    "        for day in self.schedule:\n",
    "            for event in day:\n",
    "                rep = rep + str(event) + \" \"\n",
    "            rep = rep + \"\\n\"\n",
    "        return rep\n",
    "    \n",
    "    def print_genome(self):\n",
    "        genome = \"\"\n",
    "        for day in self.schedule:\n",
    "            for event in day:\n",
    "                print(event.get_genome())\n",
    "            "
   ]
  },
  {
   "cell_type": "code",
   "execution_count": 68,
   "metadata": {
    "scrolled": true
   },
   "outputs": [
    {
     "ename": "SyntaxError",
     "evalue": "invalid syntax (2006375533.py, line 3)",
     "output_type": "error",
     "traceback": [
      "\u001b[1;36m  Input \u001b[1;32mIn [68]\u001b[1;36m\u001b[0m\n\u001b[1;33m    for iter in range(NUM_CLASSES)\u001b[0m\n\u001b[1;37m                                  ^\u001b[0m\n\u001b[1;31mSyntaxError\u001b[0m\u001b[1;31m:\u001b[0m invalid syntax\n"
     ]
    }
   ],
   "source": [
    "def binary_to_schedule(bin_schedule):\n",
    "    events = []\n",
    "    for iter in range(NUM_CLASSES)\n",
    "        i = 0 \n",
    "        current = {}\n",
    "        for attr in GENE_LENGTHS:\n",
    "            gene = bin_scheudle[i:i+gene_len]\n",
    "            current[attr][gene] = \n",
    "            i += gene_len\n",
    "    "
   ]
  },
  {
   "cell_type": "code",
   "execution_count": 86,
   "metadata": {},
   "outputs": [],
   "source": [
    "# Rough implementation, doesn't really work yet\n",
    "def inverse_fitness(s):\n",
    "    total_conflicts = 0\n",
    "    for eventOne in s.schedule:\n",
    "        print(eventOne)\n",
    "        for eventTwo in s.schedule:\n",
    "            if eventOne != eventTwo:\n",
    "                if eventOne.is_overlapping(eventTwo):\n",
    "                    total_conflicts+= 1\n",
    "    return 1 if total_conflicts == 0 else 1./total_conflicts"
   ]
  },
  {
   "cell_type": "code",
   "execution_count": 87,
   "metadata": {
    "scrolled": true
   },
   "outputs": [
    {
     "name": "stdout",
     "output_type": "stream",
     "text": [
      "class len: 2.0\n",
      "Start 8 End: 10.0\n",
      "Start 10.0 End: 12.0\n",
      "Start 12.0 End: 14.0\n",
      "Start 14.0 End: 16.0\n",
      "Start 8 End: 10.0\n",
      "Start 10.0 End: 12.0\n",
      "Start 12.0 End: 14.0\n",
      "Start 14.0 End: 16.0\n",
      "Start 8 End: 10.0\n",
      "Start 10.0 End: 12.0\n",
      "Start 12.0 End: 14.0\n",
      "Start 14.0 End: 16.0\n",
      "Start 8 End: 10.0\n",
      "Start 10.0 End: 12.0\n",
      "Start 12.0 End: 14.0\n",
      "Start 14.0 End: 16.0\n",
      "Start 8 End: 10.0\n",
      "Start 10.0 End: 12.0\n",
      "Start 12.0 End: 14.0\n",
      "Start 14.0 End: 16.0\n",
      "8-10.0 on M\n",
      "10.0-12.0 on M\n",
      "12.0-14.0 on M\n",
      "14.0-16.0 on M\n",
      "8-10.0 on T\n",
      "10.0-12.0 on T\n",
      "12.0-14.0 on T\n",
      "14.0-16.0 on T\n",
      "8-10.0 on W\n",
      "10.0-12.0 on W\n",
      "12.0-14.0 on W\n",
      "14.0-16.0 on W\n",
      "8-10.0 on TH\n",
      "10.0-12.0 on TH\n",
      "12.0-14.0 on TH\n",
      "14.0-16.0 on TH\n",
      "8-10.0 on F\n",
      "10.0-12.0 on F\n",
      "12.0-14.0 on F\n",
      "14.0-16.0 on F\n",
      "10-12 on M\n",
      "0.5\n"
     ]
    }
   ],
   "source": [
    "s = Schedule(8, 16, 4)\n",
    "s.schedule.append(Event(10, 12, \"M\"))\n",
    "# s.schedule.append(Event(10, 12, \"M\"))\n",
    "# s.print_genome()\n",
    "print(inverse_fitness(s))"
   ]
  }
 ],
 "metadata": {
  "kernelspec": {
   "display_name": "Python 3 (ipykernel)",
   "language": "python",
   "name": "python3"
  },
  "language_info": {
   "codemirror_mode": {
    "name": "ipython",
    "version": 3
   },
   "file_extension": ".py",
   "mimetype": "text/x-python",
   "name": "python",
   "nbconvert_exporter": "python",
   "pygments_lexer": "ipython3",
   "version": "3.8.12"
  }
 },
 "nbformat": 4,
 "nbformat_minor": 2
}

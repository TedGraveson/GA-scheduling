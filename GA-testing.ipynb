{
 "cells": [
  {
   "cell_type": "code",
   "execution_count": 148,
   "metadata": {},
   "outputs": [],
   "source": [
    "import numpy as np\n",
    "from collections import defaultdict\n",
    "import random"
   ]
  },
  {
   "cell_type": "code",
   "execution_count": 2,
   "metadata": {},
   "outputs": [],
   "source": [
    "DAYS = {\"M\": \"000\", \"T\": \"001\", \"W\": \"010\", \"TH\": \"011\", \"F\":\"100\"}"
   ]
  },
  {
   "cell_type": "code",
   "execution_count": 3,
   "metadata": {},
   "outputs": [],
   "source": [
    "DAYS_INV = dict((v, k) for k, v in DAYS.items())"
   ]
  },
  {
   "cell_type": "code",
   "execution_count": 4,
   "metadata": {},
   "outputs": [],
   "source": [
    "TIMES = {8: \"0000\", 9: \"0001\", 10: \"0010\", 11: \"0011\", 12: \"0100\", 13: \"0101\", 14: \"0110\", 15: \"0111\", 16: \"1000\"}"
   ]
  },
  {
   "cell_type": "code",
   "execution_count": 5,
   "metadata": {},
   "outputs": [],
   "source": [
    "TIMES_INV = dict((v, k) for k, v in TIMES.items())"
   ]
  },
  {
   "cell_type": "code",
   "execution_count": 6,
   "metadata": {},
   "outputs": [],
   "source": [
    "LENGTHS = {1: \"00\", 1.5: \"01\", 2: \"10\"}"
   ]
  },
  {
   "cell_type": "code",
   "execution_count": 7,
   "metadata": {},
   "outputs": [],
   "source": [
    "LENGTHS_INV = dict((v, k) for k, v in LENGTHS.items())"
   ]
  },
  {
   "cell_type": "code",
   "execution_count": 8,
   "metadata": {},
   "outputs": [],
   "source": [
    "ROOMS = {\"R1\": \"0000\", \"R2\": \"0001\", \"R3\": \"0010\", \"R4\": \"0011\", \"R5\": \"0100\", \"R6\": \"0101\", \"R7\": \"0110\", \"R8\": \"0111\", \"R9\": \"1000\"}"
   ]
  },
  {
   "cell_type": "code",
   "execution_count": 9,
   "metadata": {},
   "outputs": [],
   "source": [
    "TEACHER = {\"T1\": \"0000\", \"T2\": \"0001\", \"T3\": \"0010\", \"T4\": \"0011\", \"T5\": \"0100\", \"T6\": \"0101\", \"T7\": \"0110\", \"T8\": \"0111\", \"T9\": \"1000\"}"
   ]
  },
  {
   "cell_type": "code",
   "execution_count": 10,
   "metadata": {},
   "outputs": [],
   "source": [
    "CLASS = {\"C1\": \"0000\", \"C2\": \"0001\", \"C3\": \"0010\", \"C4\": \"0011\", \"C5\": \"0100\", \"C6\": \"0101\", \"C7\": \"0110\", \"C8\": \"0111\", \"C9\": \"1000\"}"
   ]
  },
  {
   "cell_type": "code",
   "execution_count": 103,
   "metadata": {},
   "outputs": [],
   "source": [
    "DICTS = {\"DAYS\": DAYS, \"TIMES\": TIMES, \"LENGTHS\": LENGTHS, \"ROOMS\": ROOMS, \"TEACHER\": TEACHER, \"CLASS\": CLASS,}"
   ]
  },
  {
   "cell_type": "code",
   "execution_count": 104,
   "metadata": {},
   "outputs": [],
   "source": [
    "GENE_LENGTHS = {\"DAYS\": len(DAYS[\"M\"]), \"TIMES\": len(TIMES[8]), \"LENGTHS\": len(LENGTHS[1]), \"ROOMS\": len(ROOMS[\"R1\"]), \"TEACHER\": len(TEACHER[\"T1\"]),\n",
    "                \"CLASS\": len(CLASS[\"C1\"]),}"
   ]
  },
  {
   "cell_type": "code",
   "execution_count": 212,
   "metadata": {},
   "outputs": [
    {
     "name": "stdout",
     "output_type": "stream",
     "text": [
      "Starts at 8 for 2.0 hours on M\n",
      "Starts at 8 for 2.0 hours on T\n",
      "Starts at 8 for 2.0 hours on W\n",
      "Starts at 8 for 2.0 hours on TH\n",
      "Starts at 8 for 2.0 hours on F\n"
     ]
    }
   ],
   "source": []
  },
  {
   "cell_type": "code",
   "execution_count": 24,
   "metadata": {},
   "outputs": [],
   "source": [
    "def get_gene_bounds(GENE_LENGTHS):\n",
    "    bounds = {}\n",
    "    start = 0\n",
    "    for key in GENE_LENGTHS.keys():\n",
    "        end = GENE_LENGTHS[key] + start\n",
    "        bounds[key] = (start, end)\n",
    "        start += GENE_LENGTHS[key]\n",
    "    return bounds\n",
    "\n",
    "BOUNDS = get_gene_bounds(GENE_LENGTHS)        "
   ]
  },
  {
   "cell_type": "code",
   "execution_count": 43,
   "metadata": {},
   "outputs": [],
   "source": [
    "class BinFuncs:\n",
    "    @staticmethod\n",
    "    def get_slot(s1):\n",
    "        time_len = GENE_LENGTHS[\"TIMES\"]\n",
    "        day_len = GENE_LENGTHS[\"DAYS\"]\n",
    "        length_len = GENE_LENGTHS[\"LENGTHS\"]\n",
    "        \n",
    "        d_s, d_e = BOUNDS[\"DAYS\"]\n",
    "        t_s, t_e = BOUNDS[\"TIMES\"]\n",
    "        l_s, l_e = BOUNDS[\"LENGTHS\"]\n",
    "        \n",
    "        day_1 = DAYS_INV[s1[d_s:d_e]]\n",
    "        time_1 = TIMES_INV[s1[t_s:t_e]]\n",
    "        length_1 = LENGTHS_INV[s1[l_s:l_e]]\n",
    "        \n",
    "        return (day_1, time_1, length_1)\n",
    "    \n",
    "    @staticmethod\n",
    "    def is_overlapping(tuple1, tuple2):\n",
    "        day_1, time_1, length_1 = tuple1\n",
    "        day_2, time_2, length_2 = tuple2\n",
    "        return Event(day_1, time_1, length_1).is_overlapping(Event(day_2, time_2, length_2))        "
   ]
  },
  {
   "cell_type": "code",
   "execution_count": 255,
   "metadata": {},
   "outputs": [],
   "source": [
    "import random\n",
    "class GA:\n",
    "    \n",
    "\n",
    "#     def generate_pop(size=10):\n",
    "#         pop_list = []\n",
    "#         for i in range(size):\n",
    "            \n",
    "    \n",
    "    # Swap the genes of two parents\n",
    "    @staticmethod\n",
    "    def swap(p1, p2, attr):              \n",
    "        p1 = list(p1)\n",
    "        p2 = list(p2)\n",
    "\n",
    "        start_index, end_index = BOUNDS[attr]\n",
    "\n",
    "        p1[start_index:end_index], p2[start_index:end_index] = p2[start_index:end_index], p1[start_index:end_index]\n",
    "\n",
    "        return ''.join(p1) , ''.join(p2)\n",
    "    \n",
    "    # Get a random mutation on time attr\n",
    "    @staticmethod\n",
    "    def mutate_time(p1):\n",
    "        p1 = list(p1)\n",
    "        \n",
    "        keys_list = list(BOUNDS.keys())[:2]\n",
    "        \n",
    "        attr = random.choice(keys_list)\n",
    "        new_val = random.choice(list(DICTS[attr].values()))\n",
    "        start, end = BOUNDS[attr]\n",
    "        \n",
    "        p1[start:end] = new_val\n",
    "        \n",
    "        return ''.join(p1)\n",
    "    \n",
    "    @staticmethod\n",
    "    def inverse_fitness(s_bin, ITEM_LEN):\n",
    "        total_conflicts = 0\n",
    "        days = defaultdict(list)\n",
    "        index = 0\n",
    "\n",
    "        for i in range(ITEM_LEN, len(s_bin), ITEM_LEN):\n",
    "            event_one = BinFuncs.get_slot(s_bin[i:i+ITEM_LEN])\n",
    "            for j in range(i-ITEM_LEN, -1, -ITEM_LEN):\n",
    "                event_two = BinFuncs.get_slot(s_bin[j:j+ITEM_LEN])\n",
    "                conflict = BinFuncs.is_overlapping(event_one, event_two)\n",
    "                if conflict:\n",
    "                    total_conflicts += 1\n",
    "#                     print(\"conflict\")\n",
    "                    \n",
    "\n",
    "\n",
    "        return 1./(1. + total_conflicts)\n",
    "    \n",
    "    @staticmethod\n",
    "    def time_prefs(s_bin, time_prefs, ITEM_LEN):\n",
    "        PREF = 0.05\n",
    "        penalty = 0\n",
    "        \n",
    "        for i in range(ITEM_LEN, len(s_bin), ITEM_LEN):\n",
    "            event_one = BinFuncs.get_slot(s_bin[i:i+ITEM_LEN])\n",
    "            for pref_event in (time_prefs):\n",
    "                conflict = BinFuncs.is_overlapping(event_one, BinFuncs.get_slot(pref_event.get_genome()))\n",
    "                if conflict:\n",
    "                    penalty -= PREF\n",
    "                    break\n",
    "                    \n",
    "        return penalty\n",
    "    \n",
    "    # Blending two parents and producing two children.\n",
    "    # https://www.researchgate.net/publication/282269189_An_empirical_comparison_of_two_crossover_operators_in_real-coded_genetic_algorithms_for_constrained_numerical_optimization_problems\n",
    "    \n",
    "    @staticmethod\n",
    "    def blend_crossover(x1, x2):\n",
    "        min_start = min(x1.start, x2.start)\n",
    "        max_end = max(x1.start + x1.len, x2.start + x2.len)\n",
    "        \n",
    "        diff = max_end-min_start\n",
    "        alpha = 0.5\n",
    "        \n",
    "        i_start = round(min_start - (diff * alpha))\n",
    "        i_end = round(max_end + (diff * alpha))\n",
    "                \n",
    "        # This part should prob assign intervals bounds to key with least difference\n",
    "        # instead of current implementation\n",
    "        if(i_start not in TIMES.keys()):\n",
    "            i_start = min(list(TIMES.keys()))\n",
    "        \n",
    "        if(i_end not in TIMES.keys()):\n",
    "            i_end = max(list(TIMES.keys()))\n",
    "            \n",
    "        parent_time_range = range(i_start, i_end, 1)\n",
    "        \n",
    "        time_one = random.choice(parent_time_range)\n",
    "        time_two = random.choice(parent_time_range)\n",
    "        \n",
    "        parent_day_range = [x1.day, x2.day]\n",
    "        \n",
    "        day_one = random.choice(parent_day_range)\n",
    "        day_two = random.choice(parent_day_range)\n",
    "        \n",
    "        child_1 = Event(day_one, time_one, x1.len)\n",
    "        child_2 = Event(day_two, time_two, x2.len)\n",
    "        \n",
    "        return (child_1, child_2)\n",
    "        \n",
    "        \n",
    "        \n",
    "        \n",
    "#     def algorithm(initial_pop, generations=10):\n",
    "#         current_pop = initial_pop\n",
    "#         best_pop = initial_pop\n",
    "#         for i in range(generations):\n",
    "#             if inverse_fitness(current_pop) > inverse_fitness(best_pop)\n",
    "#                 best_pop = current_pop\n",
    "#             for schedule in current_population:\n",
    "#                 # For best two individual schedules\n",
    "#                 for event in schedule:\n",
    "                    \n",
    "                \n",
    "        "
   ]
  },
  {
   "cell_type": "code",
   "execution_count": 270,
   "metadata": {},
   "outputs": [
    {
     "name": "stdout",
     "output_type": "stream",
     "text": [
      "Starts at 9 for 2.0 hours on W Starts at 9 for 2.0 hours on W\n"
     ]
    }
   ],
   "source": [
    "d1 = Event(\"M\", 8, 2)\n",
    "d2 = Event(\"W\", 9, 2)\n",
    "\n",
    "c1, c2 = GA.blend_crossover(d1, d2)\n",
    "print(c1, c2)"
   ]
  },
  {
   "cell_type": "code",
   "execution_count": 269,
   "metadata": {},
   "outputs": [],
   "source": [
    "    #     print(days)\n",
    "\n",
    "    #     for key in days.keys():\n",
    "    #         events = days[key]\n",
    "\n",
    "    #         for i in range(1, len(events)):\n",
    "    #             event_one = BinFuncs.get_slot(key+events[i])\n",
    "    #             print(f\"Outer {event_one} index {i}\")\n",
    "\n",
    "    #             for j in range(i-1, -1, -1):\n",
    "    #                 event_two = BinFuncs.get_slot(key+events[j])\n",
    "    #                 print(f\"Inner {event_two} index {j}\")\n",
    "    #                 conflict = BinFuncs.is_overlapping(event_one, event_two)\n",
    "    #                 if conflict:\n",
    "    #                     print(\"conflict\")\n",
    "    #                     total_conflicts += 1\n",
    "    #     for key in days.keys():\n",
    "    #         days[key] = sorted(days[key])\n",
    "\n",
    "    #         ongoing = 0\n",
    "    #         for event in days[key]:\n",
    "\n",
    "\n",
    "    #     for event s.schedule:\n",
    "    #         print(eventOne)\n",
    "    #         for eventTwo in s.schedule:\n",
    "    #             if eventOne != eventTwo:\n",
    "    #                 if eventOne.is_overlapping(eventTwo):\n",
    "    #                     total_conflicts+= 1"
   ]
  },
  {
   "cell_type": "code",
   "execution_count": 177,
   "metadata": {},
   "outputs": [
    {
     "name": "stdout",
     "output_type": "stream",
     "text": [
      "Starts at 11 for 1.0 hours on M\n",
      "Starts at 8 for 1.0 hours on M\n",
      "Starts at 11 for 1.0 hours on TH\n",
      "Starts at 15 for 1.0 hours on M\n"
     ]
    }
   ],
   "source": [
    "p1 = Event(\"M\", 11, 1)\n",
    "print(p1)\n",
    "d, t, l = BinFuncs.get_slot(GA.mutate_time(p1.get_genome()))\n",
    "print(Event(d, t, l))\n",
    "d, t, l = BinFuncs.get_slot(GA.mutate_time(p1.get_genome()))\n",
    "print(Event(d, t, l))\n",
    "d, t, l = BinFuncs.get_slot(GA.mutate_time(p1.get_genome()))\n",
    "print(Event(d, t, l))"
   ]
  },
  {
   "cell_type": "code",
   "execution_count": null,
   "metadata": {},
   "outputs": [],
   "source": []
  },
  {
   "cell_type": "code",
   "execution_count": 219,
   "metadata": {},
   "outputs": [
    {
     "name": "stdout",
     "output_type": "stream",
     "text": [
      "000001100000000010000 001001000000000000000\n",
      "001001100000000010000 000001000000000000000\n"
     ]
    }
   ],
   "source": [
    "p1 = Event(\"M\", 11, 1)\n",
    "p1.teacher = \"T2\"\n",
    "p2 = Event(\"T\", 10, 1)\n",
    "\n",
    "p3 = Event(\"W\", 12, 2)\n",
    "print(p1.get_genome(), p2.get_genome())\n",
    "p1_cross, p2_cross = GA.swap(p1.get_genome(), p2.get_genome(), \"DAYS\")\n",
    "print(p1_cross, p2_cross)\n",
    "# print(LENGTHS[1.5])\n",
    "# print(LENGTHS[1])"
   ]
  },
  {
   "cell_type": "code",
   "execution_count": 179,
   "metadata": {},
   "outputs": [],
   "source": [
    "class Event:\n",
    "    def __init__(self, day, start, length):\n",
    "        self.start = int(start)\n",
    "        self.len = float(length)\n",
    "        self.day = day\n",
    "        \n",
    "        self.teacher = \"T1\"\n",
    "        self.class_name = \"C1\"\n",
    "        self.room = \"R1\"\n",
    "        \n",
    "    def is_overlapping(self, event):\n",
    "        end = self.start + self.len\n",
    "        other_end = event.start + event.len\n",
    "        \n",
    "        end_during = end > event.start and end <= other_end\n",
    "        start_during = self.start >= event.start and self.start < other_end\n",
    "        same_day = (self.day == event.day)\n",
    "        \n",
    "        return (end_during or start_during) and same_day\n",
    "\n",
    "    \n",
    "    def __str__(self):\n",
    "        return f\"Starts at {self.start} for {self.len} hours on {self.day}\"\n",
    "    \n",
    "    def time_gene(self):\n",
    "        return DAYS[self.day] + TIMES[self.start] + LENGTHS[self.len]\n",
    "    \n",
    "    def get_genome(self):\n",
    "        genome = \"\"\n",
    "        genome += self.time_gene()\n",
    "        genome += ROOMS[self.room]\n",
    "        genome += TEACHER[self.teacher]\n",
    "        genome += CLASS[self.class_name]\n",
    "        return genome"
   ]
  },
  {
   "cell_type": "code",
   "execution_count": 114,
   "metadata": {},
   "outputs": [],
   "source": [
    "# print(Event(15, 2.6, \"M\").is_overlapping(Event(12, 3.1, \"W\")))"
   ]
  },
  {
   "cell_type": "code",
   "execution_count": 159,
   "metadata": {},
   "outputs": [],
   "source": [
    "def random_start_time():\n",
    "    days = list(DAYS.keys())\n",
    "    times = list(TIMES.keys())\n",
    "    length = 2\n",
    "    \n",
    "    return random.choice(days), random.choice(times), 2"
   ]
  },
  {
   "cell_type": "code",
   "execution_count": 205,
   "metadata": {},
   "outputs": [],
   "source": [
    "class Schedule:\n",
    "    def __init__(self, events = 10):\n",
    "        self.schedule = []\n",
    "                \n",
    "        for x in range(events):\n",
    "            # Get random \n",
    "            d, t, l = random_start_time()\n",
    "            self.schedule.append(Event(d, t, l))            \n",
    "            \n",
    "    def __str__(self):\n",
    "        rep = \"\"\n",
    "        for event in self.schedule:\n",
    "            rep = rep + str(event) + \" \"\n",
    "            rep = rep + \"\\n\"\n",
    "        return rep\n",
    "    \n",
    "    def print_genome(self):\n",
    "        genome = \"\"\n",
    "        for event in self.schedule:\n",
    "            print(event.get_genome())\n",
    "            \n",
    "    def get_as_bin(self):\n",
    "        genome = \"\"\n",
    "        for event in self.schedule:\n",
    "            genome += event.get_genome()\n",
    "        return genome"
   ]
  },
  {
   "cell_type": "code",
   "execution_count": 161,
   "metadata": {},
   "outputs": [],
   "source": [
    "# Rough implementation, doesn't really work yet\n"
   ]
  },
  {
   "cell_type": "code",
   "execution_count": 162,
   "metadata": {},
   "outputs": [
    {
     "ename": "KeyError",
     "evalue": "'010'",
     "output_type": "error",
     "traceback": [
      "\u001b[1;31m---------------------------------------------------------------------------\u001b[0m",
      "\u001b[1;31mKeyError\u001b[0m                                  Traceback (most recent call last)",
      "\u001b[1;32m~\\AppData\\Local\\Temp/ipykernel_21568/4129589500.py\u001b[0m in \u001b[0;36m<module>\u001b[1;34m\u001b[0m\n\u001b[1;32m----> 1\u001b[1;33m \u001b[0mlen\u001b[0m\u001b[1;33m(\u001b[0m\u001b[0ms\u001b[0m\u001b[1;33m.\u001b[0m\u001b[0mschedule\u001b[0m\u001b[1;33m[\u001b[0m\u001b[1;36m0\u001b[0m\u001b[1;33m]\u001b[0m\u001b[1;33m.\u001b[0m\u001b[0mget_genome\u001b[0m\u001b[1;33m(\u001b[0m\u001b[1;33m)\u001b[0m\u001b[1;33m)\u001b[0m\u001b[1;33m\u001b[0m\u001b[1;33m\u001b[0m\u001b[0m\n\u001b[0m",
      "\u001b[1;32m~\\AppData\\Local\\Temp/ipykernel_21568/1621552965.py\u001b[0m in \u001b[0;36mget_genome\u001b[1;34m(self)\u001b[0m\n\u001b[0;32m     28\u001b[0m     \u001b[1;32mdef\u001b[0m \u001b[0mget_genome\u001b[0m\u001b[1;33m(\u001b[0m\u001b[0mself\u001b[0m\u001b[1;33m)\u001b[0m\u001b[1;33m:\u001b[0m\u001b[1;33m\u001b[0m\u001b[1;33m\u001b[0m\u001b[0m\n\u001b[0;32m     29\u001b[0m         \u001b[0mgenome\u001b[0m \u001b[1;33m=\u001b[0m \u001b[1;34m\"\"\u001b[0m\u001b[1;33m\u001b[0m\u001b[1;33m\u001b[0m\u001b[0m\n\u001b[1;32m---> 30\u001b[1;33m         \u001b[0mgenome\u001b[0m \u001b[1;33m+=\u001b[0m \u001b[0mself\u001b[0m\u001b[1;33m.\u001b[0m\u001b[0mtime_gene\u001b[0m\u001b[1;33m(\u001b[0m\u001b[1;33m)\u001b[0m\u001b[1;33m\u001b[0m\u001b[1;33m\u001b[0m\u001b[0m\n\u001b[0m\u001b[0;32m     31\u001b[0m         \u001b[0mgenome\u001b[0m \u001b[1;33m+=\u001b[0m \u001b[0mROOMS\u001b[0m\u001b[1;33m[\u001b[0m\u001b[0mself\u001b[0m\u001b[1;33m.\u001b[0m\u001b[0mroom\u001b[0m\u001b[1;33m]\u001b[0m\u001b[1;33m\u001b[0m\u001b[1;33m\u001b[0m\u001b[0m\n\u001b[0;32m     32\u001b[0m         \u001b[0mgenome\u001b[0m \u001b[1;33m+=\u001b[0m \u001b[0mTEACHER\u001b[0m\u001b[1;33m[\u001b[0m\u001b[0mself\u001b[0m\u001b[1;33m.\u001b[0m\u001b[0mteacher\u001b[0m\u001b[1;33m]\u001b[0m\u001b[1;33m\u001b[0m\u001b[1;33m\u001b[0m\u001b[0m\n",
      "\u001b[1;32m~\\AppData\\Local\\Temp/ipykernel_21568/1621552965.py\u001b[0m in \u001b[0;36mtime_gene\u001b[1;34m(self)\u001b[0m\n\u001b[0;32m     24\u001b[0m \u001b[1;33m\u001b[0m\u001b[0m\n\u001b[0;32m     25\u001b[0m     \u001b[1;32mdef\u001b[0m \u001b[0mtime_gene\u001b[0m\u001b[1;33m(\u001b[0m\u001b[0mself\u001b[0m\u001b[1;33m)\u001b[0m\u001b[1;33m:\u001b[0m\u001b[1;33m\u001b[0m\u001b[1;33m\u001b[0m\u001b[0m\n\u001b[1;32m---> 26\u001b[1;33m         \u001b[1;32mreturn\u001b[0m \u001b[0mDAYS\u001b[0m\u001b[1;33m[\u001b[0m\u001b[0mself\u001b[0m\u001b[1;33m.\u001b[0m\u001b[0mday\u001b[0m\u001b[1;33m]\u001b[0m \u001b[1;33m+\u001b[0m \u001b[0mTIMES\u001b[0m\u001b[1;33m[\u001b[0m\u001b[0mself\u001b[0m\u001b[1;33m.\u001b[0m\u001b[0mstart\u001b[0m\u001b[1;33m]\u001b[0m \u001b[1;33m+\u001b[0m \u001b[0mLENGTHS\u001b[0m\u001b[1;33m[\u001b[0m\u001b[0mself\u001b[0m\u001b[1;33m.\u001b[0m\u001b[0mlen\u001b[0m\u001b[1;33m]\u001b[0m\u001b[1;33m\u001b[0m\u001b[1;33m\u001b[0m\u001b[0m\n\u001b[0m\u001b[0;32m     27\u001b[0m \u001b[1;33m\u001b[0m\u001b[0m\n\u001b[0;32m     28\u001b[0m     \u001b[1;32mdef\u001b[0m \u001b[0mget_genome\u001b[0m\u001b[1;33m(\u001b[0m\u001b[0mself\u001b[0m\u001b[1;33m)\u001b[0m\u001b[1;33m:\u001b[0m\u001b[1;33m\u001b[0m\u001b[1;33m\u001b[0m\u001b[0m\n",
      "\u001b[1;31mKeyError\u001b[0m: '010'"
     ]
    }
   ],
   "source": [
    "len(s.schedule[0].get_genome())"
   ]
  },
  {
   "cell_type": "code",
   "execution_count": 246,
   "metadata": {
    "scrolled": true
   },
   "outputs": [
    {
     "name": "stdout",
     "output_type": "stream",
     "text": [
      "0.25\n",
      "-0.1\n",
      "Starts at 14 for 2.0 hours on T \n",
      "Starts at 8 for 2.0 hours on M \n",
      "Starts at 12 for 2.0 hours on TH \n",
      "Starts at 8 for 2.0 hours on M \n",
      "Starts at 10 for 2.0 hours on W \n",
      "Starts at 14 for 2.0 hours on M \n",
      "Starts at 12 for 2.0 hours on W \n",
      "Starts at 12 for 2.0 hours on F \n",
      "Starts at 13 for 2.0 hours on W \n",
      "Starts at 14 for 2.0 hours on T \n",
      "\n"
     ]
    }
   ],
   "source": [
    "s = Schedule(events=10)\n",
    "s_2 = Schedule(events=10)\n",
    "s_3 = Schedule(events=10)\n",
    "# s.schedule = []\n",
    "# s.schedule.append(Event(\"M\", 12, 2))\n",
    "# s.schedule.append(Event(\"F\", 12, 2))\n",
    "# s.schedule.append(Event(\"M\", 8, 1))\n",
    "# s.schedule.append(Event(\"M\",8, 2))\n",
    "# s.schedule.append(Event(\"T\",8, 2))\n",
    "\n",
    "# s.schedule.append(Event(\"T\",8, 2))\n",
    "# s.schedule.append(Event(\"T\",8, 2))\n",
    "print(GA.inverse_fitness(s.get_as_bin(), len(s.schedule[0].get_genome())))\n",
    "empty_morns = [Event(x, 8, 2) for x in DAYS.keys()]\n",
    "print(GA.time_prefs(s.get_as_bin(), empty_morns,len(s.schedule[0].get_genome())))\n",
    "      \n",
    "# print(GA.inverse_fitness(s_2.get_as_bin(), len(s.schedule[0].get_genome())))\n",
    "# print(GA.inverse_fitness(s_3.get_as_bin(), len(s.schedule[0].get_genome())))\n",
    "\n",
    "print(s)\n",
    "# print(s_2)\n",
    "# print(s_3)\n"
   ]
  },
  {
   "cell_type": "code",
   "execution_count": null,
   "metadata": {},
   "outputs": [],
   "source": []
  },
  {
   "cell_type": "code",
   "execution_count": null,
   "metadata": {},
   "outputs": [],
   "source": []
  }
 ],
 "metadata": {
  "kernelspec": {
   "display_name": "Python 3 (ipykernel)",
   "language": "python",
   "name": "python3"
  },
  "language_info": {
   "codemirror_mode": {
    "name": "ipython",
    "version": 3
   },
   "file_extension": ".py",
   "mimetype": "text/x-python",
   "name": "python",
   "nbconvert_exporter": "python",
   "pygments_lexer": "ipython3",
   "version": "3.9.1"
  }
 },
 "nbformat": 4,
 "nbformat_minor": 2
}

{
 "cells": [
  {
   "cell_type": "code",
   "execution_count": 94,
   "metadata": {},
   "outputs": [],
   "source": [
    "import numpy as np"
   ]
  },
  {
   "cell_type": "code",
   "execution_count": 95,
   "metadata": {},
   "outputs": [],
   "source": [
    "DAYS = {\"M\": \"000\", \"T\": \"001\", \"W\": \"010\", \"TH\": \"011\", \"F\":\"100\"}"
   ]
  },
  {
   "cell_type": "code",
   "execution_count": 96,
   "metadata": {},
   "outputs": [],
   "source": [
    "DAYS_INV = dict((v, k) for k, v in DAYS.items())"
   ]
  },
  {
   "cell_type": "code",
   "execution_count": 97,
   "metadata": {},
   "outputs": [],
   "source": [
    "TIMES = {8: \"0000\", 9: \"0001\", 10: \"0010\", 11: \"0011\", 12: \"0100\", 13: \"0101\", 14: \"0110\", 15: \"0111\", 16: \"1000\"}"
   ]
  },
  {
   "cell_type": "code",
   "execution_count": 98,
   "metadata": {},
   "outputs": [],
   "source": [
    "TIMES_INV = dict((v, k) for k, v in TIMES.items())"
   ]
  },
  {
   "cell_type": "code",
   "execution_count": 99,
   "metadata": {},
   "outputs": [],
   "source": [
    "LENGTHS = {1: \"00\", 1.5: \"01\", 2: \"10\"}"
   ]
  },
  {
   "cell_type": "code",
   "execution_count": 203,
   "metadata": {},
   "outputs": [],
   "source": [
    "LENGTHS_INV = dict((v, k) for k, v in LENGTHS.items())"
   ]
  },
  {
   "cell_type": "code",
   "execution_count": 101,
   "metadata": {},
   "outputs": [],
   "source": [
    "ROOMS = {\"R1\": \"0000\", \"R2\": \"0001\", \"R3\": \"0010\", \"R4\": \"0011\", \"R5\": \"0100\", \"R6\": \"0101\", \"R7\": \"0110\", \"R8\": \"0111\", \"R9\": \"1000\"}"
   ]
  },
  {
   "cell_type": "code",
   "execution_count": 102,
   "metadata": {},
   "outputs": [],
   "source": [
    "TEACHERS = {\"T1\": \"0000\", \"T2\": \"0001\", \"T3\": \"0010\", \"T4\": \"0011\", \"T5\": \"0100\", \"T6\": \"0101\", \"T7\": \"0110\", \"T8\": \"0111\", \"T9\": \"1000\"}"
   ]
  },
  {
   "cell_type": "code",
   "execution_count": 103,
   "metadata": {},
   "outputs": [],
   "source": [
    "CLASS = {\"C1\": \"0000\", \"C2\": \"0001\", \"C3\": \"0010\", \"C4\": \"0011\", \"C5\": \"0100\", \"C6\": \"0101\", \"C7\": \"0110\", \"C8\": \"0111\", \"C9\": \"1000\"}"
   ]
  },
  {
   "cell_type": "code",
   "execution_count": 104,
   "metadata": {},
   "outputs": [],
   "source": [
    "DECODE = {\"DAYS\": DAYS, \"ROOMS\": ROOMS, \"TIMES\": TIMES, \"TEACHERS\": TEACHERS, \"CLASS\": CLASS}"
   ]
  },
  {
   "cell_type": "code",
   "execution_count": 115,
   "metadata": {},
   "outputs": [],
   "source": [
    "GENE_LENGTHS = {\"DAYS\": len(DAYS[\"M\"]), \"TIMES\": len(TIMES[8]), \"ROOMS\": len(ROOMS[\"R1\"]), \"TEACHERS\": len(TEACHERS[\"T1\"]),\n",
    "                \"CLASS\": len(CLASS[\"C1\"]), \"LENGTHS\": len(LENGTHS[1])}"
   ]
  },
  {
   "cell_type": "code",
   "execution_count": 106,
   "metadata": {},
   "outputs": [
    {
     "name": "stdout",
     "output_type": "stream",
     "text": [
      "19\n"
     ]
    }
   ],
   "source": [
    "ITEM_LEN = np.sum([x for x in GENE_LENGTHS.values()])\n",
    "print(ITEM_LEN)"
   ]
  },
  {
   "cell_type": "code",
   "execution_count": 204,
   "metadata": {},
   "outputs": [],
   "source": [
    "class BinFuncs:\n",
    "    @staticmethod\n",
    "    def get_slot(s1):\n",
    "        time_len = GENE_LENGTHS[\"TIMES\"]\n",
    "        day_len = GENE_LENGTHS[\"DAYS\"]\n",
    "        length_len = GENE_LENGTHS[\"LENGTHS\"]\n",
    "        \n",
    "        day_1 = DAYS_INV[s1[:day_len]]\n",
    "        time_1 = TIMES_INV[s1[day_len:day_len+time_len]]\n",
    "        length_1 = LENGTHS_INV[s1[day_len+time_len:day_len+time_len+length_len]]\n",
    "                    \n",
    "#         day_2 = DAYS_INV[s2[:day_len]]\n",
    "#         time_2 = TIMES_INV[s2[day_len:day_len+time_len]]\n",
    "#         length_2 = 2\n",
    "#         end_2 = time_2 + length_2\n",
    "        \n",
    "        return (day_1, time_1, length_1)\n",
    "    \n",
    "    def is_overlapping(tuple1, tuple2):\n",
    "        day_1, time_1, length_1 = tuple1\n",
    "        day_2, time_2, length_2 = tuple2\n",
    "        return Event(day_1, time_1, length_1).is_overlapping(Event(day_2, time_2, length_2))\n",
    "        "
   ]
  },
  {
   "cell_type": "code",
   "execution_count": 205,
   "metadata": {},
   "outputs": [],
   "source": [
    "class Event:\n",
    "    def __init__(self, day, start, length):\n",
    "        self.start = int(start)\n",
    "        self.len = int(length)\n",
    "        self.day = day\n",
    "        \n",
    "        self.teacher = \"T1\"\n",
    "        self.class_name = \"C1\"\n",
    "        self.room = \"R1\"\n",
    "        \n",
    "    def is_overlapping(self, event):\n",
    "        end = self.start + self.len\n",
    "        other_end = event.start + event.len\n",
    "        \n",
    "        end_during = end > event.start and end <= other_end\n",
    "        start_during = self.start >= event.start and self.start < other_end\n",
    "        same_day = (self.day == event.day)\n",
    "        \n",
    "        return (end_during or start_during) and same_day\n",
    "\n",
    "    \n",
    "    def __str__(self):\n",
    "        return f\"Starts at {self.start} for {self.len} hours on {self.day}\"\n",
    "    \n",
    "    def time_gene(self):\n",
    "        return DAYS[self.day] + TIMES[self.start] + LENGTHS[self.len]\n",
    "    \n",
    "    def get_genome(self):\n",
    "        genome = \"\"\n",
    "        genome += self.time_gene()\n",
    "        genome += CLASS[self.class_name]\n",
    "        genome += TEACHERS[self.teacher]\n",
    "        return genome"
   ]
  },
  {
   "cell_type": "code",
   "execution_count": 206,
   "metadata": {},
   "outputs": [],
   "source": [
    "# print(Event(15, 2.6, \"M\").is_overlapping(Event(12, 3.1, \"W\")))"
   ]
  },
  {
   "cell_type": "code",
   "execution_count": 207,
   "metadata": {},
   "outputs": [],
   "source": [
    "class Schedule:\n",
    "    def __init__(self, start, end, numSlots):\n",
    "        self.schedule = []\n",
    "        \n",
    "        class_len = (end-start)/numSlots\n",
    "        \n",
    "        for day in DAYS.keys():\n",
    "\n",
    "            start_time = start\n",
    "            for slot in range(numSlots):\n",
    "#                 print(f\"Start {start_time} End: {start_time+class_len}\")\n",
    "                ts = Event(day, start_time, class_len)\n",
    "                start_time = start_time + class_len\n",
    "                self.schedule.append(ts)\n",
    "            \n",
    "    def __str__(self):\n",
    "        rep = \"\"\n",
    "        for event in self.schedule:\n",
    "            rep = rep + str(event) + \" \"\n",
    "            rep = rep + \"\\n\"\n",
    "        return rep\n",
    "    \n",
    "    def print_genome(self):\n",
    "        genome = \"\"\n",
    "        for event in self.schedule:\n",
    "            print(event.get_genome())\n",
    "            \n",
    "    def get_as_bin(self):\n",
    "        genome = \"\"\n",
    "        for event in self.schedule:\n",
    "            genome += event.get_genome()\n",
    "        return genome"
   ]
  },
  {
   "cell_type": "code",
   "execution_count": 225,
   "metadata": {},
   "outputs": [],
   "source": [
    "# Rough implementation, doesn't really work yet\n",
    "from collections import defaultdict\n",
    "def inverse_fitness(s_bin, ITEM_LEN):\n",
    "    \n",
    "    total_conflicts = 0\n",
    "    days = defaultdict(list)\n",
    "    index = 0\n",
    "    day_len = GENE_LENGTHS[\"DAYS\"]\n",
    "    time_len = GENE_LENGTHS[\"TIMES\"]\n",
    "    length_len = GENE_LENGTHS[\"LENGTHS\"]\n",
    "    \n",
    "    while(index < len(s_bin)):\n",
    "        day = s_bin[index:index+day_len]\n",
    "        time = s_bin[index+day_len: index+day_len+time_len]\n",
    "        length = s_bin[index+day_len+time_len:index+day_len+time_len+length_len]\n",
    "        index = index + ITEM_LEN\n",
    "        days[day].append(time+length)\n",
    "    print(days)\n",
    "    \n",
    "    for key in days.keys():\n",
    "        events = days[key]\n",
    "        \n",
    "        for i in range(1, len(events)):\n",
    "            event_one = BinFuncs.get_slot(key+events[i])\n",
    "            print(f\"Outer {event_one} index {i}\")\n",
    "            \n",
    "            for j in range(i-1, -1, -1):\n",
    "                event_two = BinFuncs.get_slot(key+events[j])\n",
    "                print(f\"Inner {event_two} index {j}\")\n",
    "                conflict = BinFuncs.is_overlapping(event_one, event_two)\n",
    "                if conflict:\n",
    "                    print(\"conflict\")\n",
    "                    total_conflicts += 1\n",
    "#     for key in days.keys():\n",
    "#         days[key] = sorted(days[key])\n",
    "        \n",
    "#         ongoing = 0\n",
    "#         for event in days[key]:\n",
    "            \n",
    "    \n",
    "#     for event s.schedule:\n",
    "#         print(eventOne)\n",
    "#         for eventTwo in s.schedule:\n",
    "#             if eventOne != eventTwo:\n",
    "#                 if eventOne.is_overlapping(eventTwo):\n",
    "#                     total_conflicts+= 1\n",
    "    return 2 if total_conflicts == 0 else 1./total_conflicts"
   ]
  },
  {
   "cell_type": "code",
   "execution_count": 232,
   "metadata": {
    "scrolled": true
   },
   "outputs": [
    {
     "name": "stdout",
     "output_type": "stream",
     "text": [
      "Starts at 8 for 2 hours on M \n",
      "Starts at 10 for 2 hours on M \n",
      "Starts at 12 for 2 hours on M \n",
      "Starts at 14 for 2 hours on M \n",
      "Starts at 8 for 2 hours on T \n",
      "Starts at 10 for 2 hours on T \n",
      "Starts at 12 for 2 hours on T \n",
      "Starts at 14 for 2 hours on T \n",
      "Starts at 8 for 2 hours on W \n",
      "Starts at 10 for 2 hours on W \n",
      "Starts at 12 for 2 hours on W \n",
      "Starts at 14 for 2 hours on W \n",
      "Starts at 8 for 2 hours on TH \n",
      "Starts at 10 for 2 hours on TH \n",
      "Starts at 12 for 2 hours on TH \n",
      "Starts at 14 for 2 hours on TH \n",
      "Starts at 8 for 2 hours on F \n",
      "Starts at 10 for 2 hours on F \n",
      "Starts at 12 for 2 hours on F \n",
      "Starts at 14 for 2 hours on F \n",
      "Starts at 12 for 2 hours on M \n",
      "Starts at 12 for 2 hours on F \n",
      "\n",
      "defaultdict(<class 'list'>, {'000': ['000010', '001010', '010010', '011010', '010010'], '001': ['000010', '001010', '010010', '011010'], '010': ['000010', '001010', '010010', '011010'], '011': ['000010', '001010', '010010', '011010'], '100': ['000010', '001010', '010010', '011010', '010010']})\n",
      "Outer ('M', 10, 2) index 1\n",
      "Inner ('M', 8, 2) index 0\n",
      "Outer ('M', 12, 2) index 2\n",
      "Inner ('M', 10, 2) index 1\n",
      "Inner ('M', 8, 2) index 0\n",
      "Outer ('M', 14, 2) index 3\n",
      "Inner ('M', 12, 2) index 2\n",
      "Inner ('M', 10, 2) index 1\n",
      "Inner ('M', 8, 2) index 0\n",
      "Outer ('M', 12, 2) index 4\n",
      "Inner ('M', 14, 2) index 3\n",
      "Inner ('M', 12, 2) index 2\n",
      "conflict\n",
      "Inner ('M', 10, 2) index 1\n",
      "Inner ('M', 8, 2) index 0\n",
      "Outer ('T', 10, 2) index 1\n",
      "Inner ('T', 8, 2) index 0\n",
      "Outer ('T', 12, 2) index 2\n",
      "Inner ('T', 10, 2) index 1\n",
      "Inner ('T', 8, 2) index 0\n",
      "Outer ('T', 14, 2) index 3\n",
      "Inner ('T', 12, 2) index 2\n",
      "Inner ('T', 10, 2) index 1\n",
      "Inner ('T', 8, 2) index 0\n",
      "Outer ('W', 10, 2) index 1\n",
      "Inner ('W', 8, 2) index 0\n",
      "Outer ('W', 12, 2) index 2\n",
      "Inner ('W', 10, 2) index 1\n",
      "Inner ('W', 8, 2) index 0\n",
      "Outer ('W', 14, 2) index 3\n",
      "Inner ('W', 12, 2) index 2\n",
      "Inner ('W', 10, 2) index 1\n",
      "Inner ('W', 8, 2) index 0\n",
      "Outer ('TH', 10, 2) index 1\n",
      "Inner ('TH', 8, 2) index 0\n",
      "Outer ('TH', 12, 2) index 2\n",
      "Inner ('TH', 10, 2) index 1\n",
      "Inner ('TH', 8, 2) index 0\n",
      "Outer ('TH', 14, 2) index 3\n",
      "Inner ('TH', 12, 2) index 2\n",
      "Inner ('TH', 10, 2) index 1\n",
      "Inner ('TH', 8, 2) index 0\n",
      "Outer ('F', 10, 2) index 1\n",
      "Inner ('F', 8, 2) index 0\n",
      "Outer ('F', 12, 2) index 2\n",
      "Inner ('F', 10, 2) index 1\n",
      "Inner ('F', 8, 2) index 0\n",
      "Outer ('F', 14, 2) index 3\n",
      "Inner ('F', 12, 2) index 2\n",
      "Inner ('F', 10, 2) index 1\n",
      "Inner ('F', 8, 2) index 0\n",
      "Outer ('F', 12, 2) index 4\n",
      "Inner ('F', 14, 2) index 3\n",
      "Inner ('F', 12, 2) index 2\n",
      "conflict\n",
      "Inner ('F', 10, 2) index 1\n",
      "Inner ('F', 8, 2) index 0\n",
      "0.5\n"
     ]
    }
   ],
   "source": [
    "s = Schedule(8, 16, 4)\n",
    "# s.schedule = []\n",
    "s.schedule.append(Event(\"M\", 12, 2))\n",
    "s.schedule.append(Event(\"F\", 12, 2))\n",
    "# s.schedule.append(Event(\"M\", 8, 1))\n",
    "# s.schedule.append(Event(\"M\",8, 2))\n",
    "# s.schedule.append(Event(\"M\",8, 2))\n",
    "\n",
    "# s.schedule.append(Event(\"T\",8, 2))\n",
    "# s.schedule.append(Event(\"T\",8, 2))\n",
    "print(s)\n",
    "\n",
    "print(inverse_fitness(s.get_as_bin(), len(s.schedule[0].get_genome())))"
   ]
  },
  {
   "cell_type": "code",
   "execution_count": 233,
   "metadata": {},
   "outputs": [
    {
     "name": "stdout",
     "output_type": "stream",
     "text": [
      "17\n"
     ]
    }
   ],
   "source": [
    "print(len(\"00000001000000000\"))"
   ]
  },
  {
   "cell_type": "code",
   "execution_count": null,
   "metadata": {},
   "outputs": [],
   "source": []
  },
  {
   "cell_type": "code",
   "execution_count": null,
   "metadata": {},
   "outputs": [],
   "source": []
  }
 ],
 "metadata": {
  "kernelspec": {
   "display_name": "Python 3 (ipykernel)",
   "language": "python",
   "name": "python3"
  },
  "language_info": {
   "codemirror_mode": {
    "name": "ipython",
    "version": 3
   },
   "file_extension": ".py",
   "mimetype": "text/x-python",
   "name": "python",
   "nbconvert_exporter": "python",
   "pygments_lexer": "ipython3",
   "version": "3.9.1"
  }
 },
 "nbformat": 4,
 "nbformat_minor": 2
}

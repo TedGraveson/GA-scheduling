{
 "cells": [
  {
   "cell_type": "code",
   "execution_count": 7,
   "metadata": {},
   "outputs": [],
   "source": [
    "import numpy as np"
   ]
  },
  {
   "cell_type": "code",
   "execution_count": null,
   "metadata": {},
   "outputs": [],
   "source": [
    "DA"
   ]
  },
  {
   "cell_type": "code",
   "execution_count": 100,
   "metadata": {},
   "outputs": [],
   "source": [
    "DAYS = {\"M\": \"000\", \"T\": \"001\", \"W\": \"010\", \"TH\": \"011\", \"F\":\"100\"}"
   ]
  },
  {
   "cell_type": "code",
   "execution_count": 101,
   "metadata": {},
   "outputs": [],
   "source": [
    "TIMES = {8: \"0000\", 9: \"0001\", 10: \"0010\", 11: \"0011\", 12: \"0100\", 13: \"0101\", 14: \"0110\", 15: \"0111\", 16: \"1000\"}"
   ]
  },
  {
   "cell_type": "code",
   "execution_count": 102,
   "metadata": {},
   "outputs": [],
   "source": [
    "ROOMS = {\"R1\": \"0000\", \"R2\": \"0001\", \"R3\": \"0010\", \"R4\": \"0011\", \"R5\": \"0100\", \"R6\": \"0101\", \"R7\": \"0110\", \"R8\": \"0111\", \"R9\": \"1000\"}"
   ]
  },
  {
   "cell_type": "code",
   "execution_count": 122,
   "metadata": {},
   "outputs": [],
   "source": [
    "TEACHERS = {\"T1\": \"0000\", \"T2\": \"0001\", \"T3\": \"0010\", \"T4\": \"0011\", \"T5\": \"0100\", \"T6\": \"0101\", \"T7\": \"0110\", \"T8\": \"0111\", \"T9\": \"1000\"}"
   ]
  },
  {
   "cell_type": "code",
   "execution_count": 123,
   "metadata": {},
   "outputs": [],
   "source": [
    "CLASS = {\"C1\": \"0000\", \"C2\": \"0001\", \"C3\": \"0010\", \"C4\": \"0011\", \"C5\": \"0100\", \"C6\": \"0101\", \"C7\": \"0110\", \"C8\": \"0111\", \"C9\": \"1000\"}"
   ]
  },
  {
   "cell_type": "code",
   "execution_count": 124,
   "metadata": {},
   "outputs": [],
   "source": [
    "GENE_LENGTHS = {\"DAYS\": len(DAYS[\"M\"]), \"TIMES\": len(TIMES[8]), \"ROOMS\": len(ROOMS[\"R1\"]), \"TEACHERS\": len(TEACHERS[\"T1\"]),\n",
    "                \"CLASS\": len(CLASS[\"C1\"])}"
   ]
  },
  {
   "cell_type": "code",
   "execution_count": 125,
   "metadata": {},
   "outputs": [],
   "source": [
    "class ScheduleBlock:\n",
    "    def __init__(self, time_slot, teacher, class_name):\n",
    "        self.slot =  time_slot\n",
    "#         self.max_students = max_students\n",
    "        self.teacher = teacher\n",
    "        self.class_name = class_name\n",
    "       \n",
    "    def get_genome(self):\n",
    "        genome = \"\"\n",
    "        genome += self.slot.get_gene()\n",
    "        genome += CLASS[self.class_name]\n",
    "        genome += TEACHERS[self.teacher]\n",
    "        return genome"
   ]
  },
  {
   "cell_type": "code",
   "execution_count": 126,
   "metadata": {},
   "outputs": [],
   "source": [
    "class TimeSlot:\n",
    "    def __init__(self, start, end, day):\n",
    "        self.start = start\n",
    "        self.end = end\n",
    "        self.day = day\n",
    "        \n",
    "    def is_overlapping(timeslot):\n",
    "        return(self.start >= timeslot.start and self.start <= timeslot.end\n",
    "              or self.end >= timeslot.start and self.end <= timeslot.end\n",
    "              and self.day == timeslot.day)\n",
    "    \n",
    "    def __str__(self):\n",
    "        return f\"{self.start}-{self.end} on {self.day}\"\n",
    "    \n",
    "    def get_gene(self):\n",
    "        return DAYS[self.day] + TIMES[self.start]\n",
    "    "
   ]
  },
  {
   "cell_type": "code",
   "execution_count": 129,
   "metadata": {},
   "outputs": [],
   "source": [
    "class Schedule:\n",
    "    def __init__(self, start, end, numSlots):\n",
    "        self.schedule = []\n",
    "        \n",
    "        class_len = (end-start)/numSlots\n",
    "        print(f\"class len: {class_len}\")\n",
    "        \n",
    "        for day in DAYS.keys():\n",
    "            day_schedule = []\n",
    "            start_time = start\n",
    "            for slot in range(numSlots):\n",
    "                print(f\"Start {start_time} End: {start_time+class_len}\")\n",
    "                ts = TimeSlot(start_time, start_time+class_len, day)\n",
    "                block = ScheduleBlock(ts, \"T8\", \"C1\")\n",
    "                start_time = start_time + class_len\n",
    "                day_schedule.append(block)\n",
    "            self.schedule.append(day_schedule)\n",
    "            \n",
    "    def __str__(self):\n",
    "        rep = \"\"\n",
    "        for day in self.schedule:\n",
    "            for event in day:\n",
    "                rep = rep + str(event) + \" \"\n",
    "            rep = rep + \"\\n\"\n",
    "        return rep\n",
    "    \n",
    "    def print_genome(self):\n",
    "        genome = \"\"\n",
    "        for day in self.schedule:\n",
    "            for event in day:\n",
    "                print(event.get_genome())\n",
    "            "
   ]
  },
  {
   "cell_type": "code",
   "execution_count": 130,
   "metadata": {},
   "outputs": [
    {
     "ename": "SyntaxError",
     "evalue": "unexpected EOF while parsing (3162192669.py, line 3)",
     "output_type": "error",
     "traceback": [
      "\u001b[1;36m  Input \u001b[1;32mIn [130]\u001b[1;36m\u001b[0m\n\u001b[1;33m    \u001b[0m\n\u001b[1;37m    ^\u001b[0m\n\u001b[1;31mSyntaxError\u001b[0m\u001b[1;31m:\u001b[0m unexpected EOF while parsing\n"
     ]
    }
   ],
   "source": [
    "def binary_to_schedule(bin_schedule):\n",
    "    \n",
    "    "
   ]
  },
  {
   "cell_type": "code",
   "execution_count": 133,
   "metadata": {
    "scrolled": true
   },
   "outputs": [
    {
     "name": "stdout",
     "output_type": "stream",
     "text": [
      "class len: 2.0\n",
      "Start 8 End: 10.0\n",
      "Start 10.0 End: 12.0\n",
      "Start 12.0 End: 14.0\n",
      "Start 14.0 End: 16.0\n",
      "Start 8 End: 10.0\n",
      "Start 10.0 End: 12.0\n",
      "Start 12.0 End: 14.0\n",
      "Start 14.0 End: 16.0\n",
      "Start 8 End: 10.0\n",
      "Start 10.0 End: 12.0\n",
      "Start 12.0 End: 14.0\n",
      "Start 14.0 End: 16.0\n",
      "Start 8 End: 10.0\n",
      "Start 10.0 End: 12.0\n",
      "Start 12.0 End: 14.0\n",
      "Start 14.0 End: 16.0\n",
      "Start 8 End: 10.0\n",
      "Start 10.0 End: 12.0\n",
      "Start 12.0 End: 14.0\n",
      "Start 14.0 End: 16.0\n",
      "000000000000111\n",
      "000001000000111\n",
      "000010000000111\n",
      "000011000000111\n",
      "001000000000111\n",
      "001001000000111\n",
      "001010000000111\n",
      "001011000000111\n",
      "010000000000111\n",
      "010001000000111\n",
      "010010000000111\n",
      "010011000000111\n",
      "011000000000111\n",
      "011001000000111\n",
      "011010000000111\n",
      "011011000000111\n",
      "100000000000111\n",
      "100001000000111\n",
      "100010000000111\n",
      "100011000000111\n"
     ]
    }
   ],
   "source": [
    "s = Schedule(8, 16, 4)\n",
    "s.print_genome()"
   ]
  },
  {
   "cell_type": "code",
   "execution_count": 134,
   "metadata": {},
   "outputs": [
    {
     "data": {
      "text/plain": [
       "14.0"
      ]
     },
     "execution_count": 134,
     "metadata": {},
     "output_type": "execute_result"
    }
   ],
   "source": [
    "16-8/4"
   ]
  },
  {
   "cell_type": "code",
   "execution_count": null,
   "metadata": {},
   "outputs": [],
   "source": []
  },
  {
   "cell_type": "code",
   "execution_count": null,
   "metadata": {},
   "outputs": [],
   "source": []
  },
  {
   "cell_type": "code",
   "execution_count": null,
   "metadata": {},
   "outputs": [],
   "source": []
  }
 ],
 "metadata": {
  "kernelspec": {
   "display_name": "Python 3 (ipykernel)",
   "language": "python",
   "name": "python3"
  },
  "language_info": {
   "codemirror_mode": {
    "name": "ipython",
    "version": 3
   },
   "file_extension": ".py",
   "mimetype": "text/x-python",
   "name": "python",
   "nbconvert_exporter": "python",
   "pygments_lexer": "ipython3",
   "version": "3.8.12"
  }
 },
 "nbformat": 4,
 "nbformat_minor": 2
}
